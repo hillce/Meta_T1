{
 "metadata": {
  "language_info": {
   "codemirror_mode": {
    "name": "ipython",
    "version": 3
   },
   "file_extension": ".py",
   "mimetype": "text/x-python",
   "name": "python",
   "nbconvert_exporter": "python",
   "pygments_lexer": "ipython3",
   "version": "3.7.9"
  },
  "orig_nbformat": 2,
  "kernelspec": {
   "name": "python379jvsc74a57bd0c428e58dc82dbe1017e174b4aea0903d12c3fd818f3732ea4cfc62850a0637c7",
   "display_name": "Python 3.7.9 64-bit ('venv')"
  }
 },
 "nbformat": 4,
 "nbformat_minor": 2,
 "cells": [
  {
   "source": [
    "## Notebook for small snippets of code - CHECK BEFORE YOU DELETE CELLS!"
   ],
   "cell_type": "markdown",
   "metadata": {}
  },
  {
   "cell_type": "code",
   "execution_count": 5,
   "metadata": {},
   "outputs": [],
   "source": [
    "import numpy as np\n",
    "import os, sys\n",
    "\n",
    "direc = \"C:/fully_split_data/\"\n",
    "imgList = [x for x in os.listdir(direc) if x.endswith(\"_2_0.npy\")]"
   ]
  },
  {
   "cell_type": "code",
   "execution_count": 7,
   "metadata": {},
   "outputs": [],
   "source": [
    "mean = np.zeros((7))\n",
    "std = np.zeros((7))\n",
    "\n",
    "for i,fN in enumerate(imgList):\n",
    "    sys.stdout.write(\"\\r[{}/{}]\".format(i,len(imgList)))\n",
    "    fullFN = os.path.join(direc,fN)\n",
    "    arr = np.load(fullFN)\n",
    "    mean += np.mean(arr,axis=(0,1))\n",
    "    std += np.mean(arr,axis=(0,1))\n",
    "\n",
    "mean /= len(imgList)\n",
    "std /= len(imgList)"
   ]
  },
  {
   "cell_type": "code",
   "execution_count": 9,
   "metadata": {},
   "outputs": [
    {
     "output_type": "stream",
     "name": "stdout",
     "text": [
      "[21.44408441 41.97039056 47.40745482 48.87605916 49.40194989 18.04146022\n 17.29167359] [21.44408441 41.97039056 47.40745482 48.87605916 49.40194989 18.04146022\n 17.29167359]\n"
     ]
    }
   ],
   "source": [
    "print(mean,std)\n",
    "\n",
    "np.save(\"mean_7Ch.npy\",mean)\n",
    "np.save(\"std_7Ch.npy\",std)"
   ]
  },
  {
   "cell_type": "code",
   "execution_count": 11,
   "metadata": {},
   "outputs": [],
   "source": [
    "direc = \"C:/fully_split_data/\"\n",
    "invList = [x for x in os.listdir(direc) if x.endswith(\"_2_0_inv_times.npy\")]"
   ]
  },
  {
   "cell_type": "code",
   "execution_count": 12,
   "metadata": {},
   "outputs": [
    {
     "output_type": "stream",
     "name": "stdout",
     "text": [
      "[44178/44179]"
     ]
    }
   ],
   "source": [
    "mean = np.zeros((len(invList),7))\n",
    "std = np.zeros((len(invList),7))\n",
    "\n",
    "for i,fN in enumerate(invList):\n",
    "    sys.stdout.write(\"\\r[{}/{}]\".format(i,len(invList)))\n",
    "    fullFN = os.path.join(direc,fN)\n",
    "    arr = np.load(fullFN)\n",
    "    mean[i] = arr\n",
    "    std[i] = arr\n",
    "\n",
    "mean = np.mean(mean,axis=0)\n",
    "std = np.std(std,axis=0)"
   ]
  },
  {
   "cell_type": "code",
   "execution_count": 13,
   "metadata": {},
   "outputs": [
    {
     "output_type": "stream",
     "name": "stdout",
     "text": [
      "[ 162.62126802 1178.42115032 2198.32182711 3213.17555852 4223.8250979\n  214.45376763  268.6136626 ] [ 50.08447086 415.91973098 601.85413595 768.94104013 957.36201823\n  13.82345469   3.45583247]\n"
     ]
    }
   ],
   "source": [
    "print(mean,std)\n",
    "\n",
    "np.save(\"mean_inv.npy\",mean)\n",
    "np.save(\"std_inv.npy\",std)"
   ]
  },
  {
   "cell_type": "code",
   "execution_count": 18,
   "metadata": {},
   "outputs": [],
   "source": [
    "from scipy.io import loadmat\n",
    "\n",
    "direc = \"C:/T1_maps/\"\n",
    "t1List = [x for x in os.listdir(direc) if x.endswith(\".mat\")]"
   ]
  },
  {
   "cell_type": "code",
   "execution_count": 25,
   "metadata": {},
   "outputs": [
    {
     "output_type": "stream",
     "name": "stdout",
     "text": [
      "[28841/28842]"
     ]
    }
   ],
   "source": [
    "mean = np.zeros((5))\n",
    "std = np.zeros((5))\n",
    "\n",
    "for i,fN in enumerate(t1List):\n",
    "    sys.stdout.write(\"\\r[{}/{}]\".format(i,len(t1List)))\n",
    "    fullFN = os.path.join(direc,fN)\n",
    "    try:\n",
    "        arr = loadmat(fullFN)[\"results\"]\n",
    "    except:\n",
    "        arr = loadmat(fullFN)[\"x\"]\n",
    "    mean += np.mean(arr,axis=(0,1))\n",
    "    std += np.std(arr,axis=(0,1))\n",
    "\n",
    "mean /= len(t1List)\n",
    "std /= len(t1List)"
   ]
  },
  {
   "cell_type": "code",
   "execution_count": 26,
   "metadata": {},
   "outputs": [
    {
     "output_type": "stream",
     "name": "stdout",
     "text": [
      "[362.53083589] [496.06839995]\n"
     ]
    }
   ],
   "source": [
    "print(mean[:1],std[:1])\n",
    "\n",
    "np.save(\"mean_T1.npy\",mean[:1])\n",
    "np.save(\"std_T1.npy\",std[:1])"
   ]
  },
  {
   "cell_type": "code",
   "execution_count": 1,
   "metadata": {},
   "outputs": [],
   "source": [
    "import json\n",
    "\n",
    "with open(\"./jsonFiles/biobank_meta_full.json\",\"r\") as f:\n",
    "    bbMeta = json.load(f)"
   ]
  },
  {
   "cell_type": "code",
   "execution_count": 3,
   "metadata": {},
   "outputs": [
    {
     "output_type": "execute_result",
     "data": {
      "text/plain": [
       "dict_keys(['1', '2', '3', '4', '5', '6', '7'])"
      ]
     },
     "metadata": {},
     "execution_count": 3
    }
   ],
   "source": [
    "keys = list(bbMeta.keys())\n",
    "\n",
    "bbMeta[keys[0]].keys()"
   ]
  },
  {
   "cell_type": "code",
   "execution_count": 5,
   "metadata": {},
   "outputs": [
    {
     "output_type": "stream",
     "name": "stdout",
     "text": [
      "Specific Character Set , dtype: <class 'str'>\nImage Type , dtype: <class 'list'>\nInstance Creation Date , dtype: <class 'str'>\nInstance Creation Time , dtype: <class 'str'>\nStudy Date , dtype: <class 'str'>\nSeries Date , dtype: <class 'str'>\nAcquisition Date , dtype: <class 'str'>\nContent Date , dtype: <class 'str'>\nStudy Time , dtype: <class 'str'>\nSeries Time , dtype: <class 'str'>\nAcquisition Time , dtype: <class 'str'>\nContent Time , dtype: <class 'str'>\nAccession Number , dtype: <class 'str'>\nModality , dtype: <class 'str'>\nManufacturer , dtype: <class 'str'>\nInstitution Name , dtype: <class 'str'>\nInstitution Address , dtype: <class 'str'>\nReferring Physician's Name , dtype: <class 'str'>\nStation Name , dtype: <class 'str'>\nStudy Description , dtype: <class 'str'>\nSeries Description , dtype: <class 'str'>\nInstitutional Department Name , dtype: <class 'str'>\nPerforming Physician's Name , dtype: <class 'str'>\nManufacturer's Model Name , dtype: <class 'str'>\nPatient ID , dtype: <class 'str'>\nPatient's Birth Date , dtype: <class 'str'>\nPatient's Sex , dtype: <class 'str'>\nPatient's Age , dtype: <class 'str'>\nPatient's Size , dtype: <class 'float'>\nPatient's Weight , dtype: <class 'float'>\nBody Part Examined , dtype: <class 'str'>\nScanning Sequence , dtype: <class 'list'>\nSequence Variant , dtype: <class 'list'>\nScan Options , dtype: <class 'list'>\nMR Acquisition Type , dtype: <class 'str'>\nSequence Name , dtype: <class 'str'>\nAngio Flag , dtype: <class 'str'>\nSlice Thickness , dtype: <class 'float'>\nRepetition Time , dtype: <class 'float'>\nEcho Time , dtype: <class 'float'>\nInversion Time , dtype: <class 'float'>\nNumber of Averages , dtype: <class 'float'>\nImaging Frequency , dtype: <class 'float'>\nImaged Nucleus , dtype: <class 'str'>\nEcho Number(s) , dtype: <class 'float'>\nMagnetic Field Strength , dtype: <class 'float'>\nNumber of Phase Encoding Steps , dtype: <class 'float'>\nEcho Train Length , dtype: <class 'float'>\nPercent Sampling , dtype: <class 'float'>\nPercent Phase Field of View , dtype: <class 'float'>\nPixel Bandwidth , dtype: <class 'float'>\nDevice Serial Number , dtype: <class 'str'>\nSoftware Versions , dtype: <class 'str'>\nProtocol Name , dtype: <class 'str'>\nTrigger Time , dtype: <class 'float'>\nNominal Interval , dtype: <class 'float'>\nCardiac Number of Images , dtype: <class 'float'>\nTransmit Coil Name , dtype: <class 'str'>\nAcquisition Matrix , dtype: <class 'list'>\nIn-plane Phase Encoding Direction , dtype: <class 'str'>\nFlip Angle , dtype: <class 'float'>\nVariable Flip Angle Flag , dtype: <class 'str'>\nSAR , dtype: <class 'float'>\ndB/dt , dtype: <class 'float'>\nPatient Position , dtype: <class 'str'>\nPrivate Creator , dtype: <class 'str'>\n[CSA Image Header Type] , dtype: <class 'str'>\n[CSA Image Header Version ??] , dtype: <class 'str'>\n[SliceMeasurementDuration] , dtype: <class 'float'>\n[GradientMode] , dtype: <class 'str'>\n[FlowCompensation] , dtype: <class 'str'>\n[TablePositionOrigin] , dtype: <class 'list'>\n[ImaAbsTablePosition] , dtype: <class 'list'>\n[ImaRelTablePosition] , dtype: <class 'list'>\n[SlicePosition_PCS] , dtype: <class 'list'>\n[TimeAfterStart] , dtype: <class 'float'>\n[SliceResolution] , dtype: <class 'float'>\n[RealDwellTime] , dtype: <class 'float'>\nStudy ID , dtype: <class 'str'>\nSeries Number , dtype: <class 'float'>\nAcquisition Number , dtype: <class 'float'>\nInstance Number , dtype: <class 'float'>\nImage Position (Patient) , dtype: <class 'list'>\nImage Orientation (Patient) , dtype: <class 'list'>\nPosition Reference Indicator , dtype: <class 'str'>\nSlice Location , dtype: <class 'float'>\nImage Comments , dtype: <class 'str'>\nSamples per Pixel , dtype: <class 'float'>\nPhotometric Interpretation , dtype: <class 'str'>\nRows , dtype: <class 'float'>\nColumns , dtype: <class 'float'>\nPixel Spacing , dtype: <class 'list'>\nBits Allocated , dtype: <class 'float'>\nBits Stored , dtype: <class 'float'>\nHigh Bit , dtype: <class 'float'>\nPixel Representation , dtype: <class 'float'>\nSmallest Image Pixel Value , dtype: <class 'float'>\nLargest Image Pixel Value , dtype: <class 'float'>\nWindow Center , dtype: <class 'float'>\nWindow Width , dtype: <class 'float'>\nWindow Center & Width Explanation , dtype: <class 'str'>\n[CSA Image Header Version] , dtype: <class 'str'>\n[CSA Series Header Type] , dtype: <class 'str'>\n[CSA Series Header Version] , dtype: <class 'str'>\n[Series Workflow Status] , dtype: <class 'str'>\nRequested Procedure Description , dtype: <class 'str'>\nPerformed Procedure Step Start Date , dtype: <class 'str'>\nPerformed Procedure Step Start Time , dtype: <class 'str'>\nPerformed Procedure Step ID , dtype: <class 'str'>\nPerformed Procedure Step Description , dtype: <class 'str'>\nComments on the Performed Procedure Step , dtype: <class 'str'>\n[Unknown] , dtype: <class 'str'>\n[AcquisitionMatrixText] , dtype: <class 'str'>\n[CoilString] , dtype: <class 'str'>\n[PATModeText] , dtype: <class 'str'>\n[PositivePCSDirections] , dtype: <class 'str'>\n"
     ]
    }
   ],
   "source": [
    "for k in bbMeta[keys[0]][\"1\"].keys():\n",
    "    print(\"{} , dtype: {}\".format(k,type(bbMeta[keys[0]][\"1\"][k])))"
   ]
  }
 ]
}