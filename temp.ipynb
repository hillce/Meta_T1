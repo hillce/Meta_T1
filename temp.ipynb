{
 "metadata": {
  "language_info": {
   "codemirror_mode": {
    "name": "ipython",
    "version": 3
   },
   "file_extension": ".py",
   "mimetype": "text/x-python",
   "name": "python",
   "nbconvert_exporter": "python",
   "pygments_lexer": "ipython3",
   "version": "3.7.9"
  },
  "orig_nbformat": 2,
  "kernelspec": {
   "name": "python379jvsc74a57bd0c428e58dc82dbe1017e174b4aea0903d12c3fd818f3732ea4cfc62850a0637c7",
   "display_name": "Python 3.7.9 64-bit ('venv')"
  }
 },
 "nbformat": 4,
 "nbformat_minor": 2,
 "cells": [
  {
   "source": [
    "## Notebook for small snippets of code - CHECK BEFORE YOU DELETE CELLS!"
   ],
   "cell_type": "markdown",
   "metadata": {}
  },
  {
   "cell_type": "code",
   "execution_count": 5,
   "metadata": {},
   "outputs": [],
   "source": [
    "import numpy as np\n",
    "import os, sys\n",
    "\n",
    "direc = \"C:/fully_split_data/\"\n",
    "imgList = [x for x in os.listdir(direc) if x.endswith(\"_2_0.npy\")]"
   ]
  },
  {
   "cell_type": "code",
   "execution_count": 7,
   "metadata": {},
   "outputs": [],
   "source": [
    "mean = np.zeros((7))\n",
    "std = np.zeros((7))\n",
    "\n",
    "for i,fN in enumerate(imgList):\n",
    "    sys.stdout.write(\"\\r[{}/{}]\".format(i,len(imgList)))\n",
    "    fullFN = os.path.join(direc,fN)\n",
    "    arr = np.load(fullFN)\n",
    "    mean += np.mean(arr,axis=(0,1))\n",
    "    std += np.mean(arr,axis=(0,1))\n",
    "\n",
    "mean /= len(imgList)\n",
    "std /= len(imgList)"
   ]
  },
  {
   "cell_type": "code",
   "execution_count": 9,
   "metadata": {},
   "outputs": [
    {
     "output_type": "stream",
     "name": "stdout",
     "text": [
      "[21.44408441 41.97039056 47.40745482 48.87605916 49.40194989 18.04146022\n 17.29167359] [21.44408441 41.97039056 47.40745482 48.87605916 49.40194989 18.04146022\n 17.29167359]\n"
     ]
    }
   ],
   "source": [
    "print(mean,std)\n",
    "\n",
    "np.save(\"mean_7Ch.npy\",mean)\n",
    "np.save(\"std_7Ch.npy\",std)"
   ]
  },
  {
   "cell_type": "code",
   "execution_count": 11,
   "metadata": {},
   "outputs": [],
   "source": [
    "direc = \"C:/fully_split_data/\"\n",
    "invList = [x for x in os.listdir(direc) if x.endswith(\"_2_0_inv_times.npy\")]"
   ]
  },
  {
   "cell_type": "code",
   "execution_count": 12,
   "metadata": {},
   "outputs": [
    {
     "output_type": "stream",
     "name": "stdout",
     "text": [
      "[44178/44179]"
     ]
    }
   ],
   "source": [
    "mean = np.zeros((len(invList),7))\n",
    "std = np.zeros((len(invList),7))\n",
    "\n",
    "for i,fN in enumerate(invList):\n",
    "    sys.stdout.write(\"\\r[{}/{}]\".format(i,len(invList)))\n",
    "    fullFN = os.path.join(direc,fN)\n",
    "    arr = np.load(fullFN)\n",
    "    mean[i] = arr\n",
    "    std[i] = arr\n",
    "\n",
    "mean = np.mean(mean,axis=0)\n",
    "std = np.std(std,axis=0)"
   ]
  },
  {
   "cell_type": "code",
   "execution_count": 13,
   "metadata": {},
   "outputs": [
    {
     "output_type": "stream",
     "name": "stdout",
     "text": [
      "[ 162.62126802 1178.42115032 2198.32182711 3213.17555852 4223.8250979\n  214.45376763  268.6136626 ] [ 50.08447086 415.91973098 601.85413595 768.94104013 957.36201823\n  13.82345469   3.45583247]\n"
     ]
    }
   ],
   "source": [
    "print(mean,std)\n",
    "\n",
    "np.save(\"mean_inv.npy\",mean)\n",
    "np.save(\"std_inv.npy\",std)"
   ]
  },
  {
   "cell_type": "code",
   "execution_count": 18,
   "metadata": {},
   "outputs": [],
   "source": [
    "from scipy.io import loadmat\n",
    "\n",
    "direc = \"C:/T1_maps/\"\n",
    "t1List = [x for x in os.listdir(direc) if x.endswith(\".mat\")]"
   ]
  },
  {
   "cell_type": "code",
   "execution_count": 25,
   "metadata": {},
   "outputs": [
    {
     "output_type": "stream",
     "name": "stdout",
     "text": [
      "[28841/28842]"
     ]
    }
   ],
   "source": [
    "mean = np.zeros((5))\n",
    "std = np.zeros((5))\n",
    "\n",
    "for i,fN in enumerate(t1List):\n",
    "    sys.stdout.write(\"\\r[{}/{}]\".format(i,len(t1List)))\n",
    "    fullFN = os.path.join(direc,fN)\n",
    "    try:\n",
    "        arr = loadmat(fullFN)[\"results\"]\n",
    "    except:\n",
    "        arr = loadmat(fullFN)[\"x\"]\n",
    "    mean += np.mean(arr,axis=(0,1))\n",
    "    std += np.std(arr,axis=(0,1))\n",
    "\n",
    "mean /= len(t1List)\n",
    "std /= len(t1List)"
   ]
  },
  {
   "cell_type": "code",
   "execution_count": 26,
   "metadata": {},
   "outputs": [
    {
     "output_type": "stream",
     "name": "stdout",
     "text": [
      "[362.53083589] [496.06839995]\n"
     ]
    }
   ],
   "source": [
    "print(mean[:1],std[:1])\n",
    "\n",
    "np.save(\"mean_T1.npy\",mean[:1])\n",
    "np.save(\"std_T1.npy\",std[:1])"
   ]
  },
  {
   "source": [
    "## Biobank Meta Full"
   ],
   "cell_type": "markdown",
   "metadata": {}
  },
  {
   "cell_type": "code",
   "execution_count": null,
   "metadata": {},
   "outputs": [],
   "source": [
    "import json\n",
    "\n",
    "with open(\"./jsonFiles/biobank_meta_full.json\",\"r\") as f:\n",
    "    bbMeta = json.load(f)"
   ]
  },
  {
   "cell_type": "code",
   "execution_count": 4,
   "metadata": {},
   "outputs": [],
   "source": [
    "keys = list(bbMeta.keys())"
   ]
  },
  {
   "cell_type": "code",
   "execution_count": 5,
   "metadata": {},
   "outputs": [
    {
     "output_type": "stream",
     "name": "stdout",
     "text": [
      "Meta values to use: \n\n ['Modality', 'Private Creator', '[SlicePosition_PCS]', 'Accession Number', 'Echo Train Length', 'Study ID', 'Window Center & Width Explanation', 'Echo Number(s)', '[CSA Series Header Type]', 'Image Comments', 'Study Date', 'Instance Number', 'Variable Flip Angle Flag', '[TimeAfterStart]', 'Manufacturer', 'Samples per Pixel', 'Protocol Name', 'Institution Address', '[SliceMeasurementDuration]', 'Image Position (Patient)', 'Largest Image Pixel Value', '[CSA Image Header Type]', '[AcquisitionMatrixText]', 'Repetition Time', '[TablePositionOrigin]', 'Slice Location', '[ImaAbsTablePosition]', 'Position Reference Indicator', 'Image Orientation (Patient)', 'Columns', 'Acquisition Time', '[CSA Series Header Version]', \"Manufacturer's Model Name\", 'Image Type', '[ImaRelTablePosition]', 'Smallest Image Pixel Value', \"Patient's Age\", 'Study Time', 'Pixel Spacing', 'Number of Averages', '[Series Workflow Status]', 'Imaged Nucleus', 'Sequence Variant', 'Flip Angle', \"Patient's Birth Date\", 'Pixel Representation', 'Instance Creation Time', 'Window Center', 'Series Number', '[CoilString]', 'Percent Sampling', 'Slice Thickness', 'Number of Phase Encoding Steps', 'Echo Time', 'Inversion Time', 'Acquisition Matrix', 'Institutional Department Name', 'Software Versions', '[Unknown]', 'Bits Stored', 'Window Width', \"Patient's Sex\", 'Content Date', '[PositivePCSDirections]', 'SAR', 'Device Serial Number', 'Transmit Coil Name', 'Bits Allocated', '[CSA Image Header Version]', '[RealDwellTime]', 'Percent Phase Field of View', '[SliceResolution]', 'Instance Creation Date', 'Institution Name', 'Series Date', 'Content Time', \"Patient's Size\", 'Imaging Frequency', 'Scan Options', '[GradientMode]', 'Angio Flag', 'Rows', 'Acquisition Date', 'Study Description', 'Specific Character Set', 'MR Acquisition Type', 'Patient Position', 'In-plane Phase Encoding Direction', 'Series Description', 'Pixel Bandwidth', 'Scanning Sequence', 'Photometric Interpretation', 'Acquisition Number', 'High Bit', \"Patient's Weight\", '[FlowCompensation]', 'Magnetic Field Strength', 'Body Part Examined', 'dB/dt', '[CSA Image Header Version ??]', 'Patient ID', 'Sequence Name', '[PATModeText]', 'Series Time']\n"
     ]
    }
   ],
   "source": [
    "allMetaKeys = []\n",
    "instTime = [\"1\",\"2\",\"3\",\"4\",\"5\",\"6\",\"7\"]\n",
    "for k in keys:\n",
    "    for i in instTime:\n",
    "        allMetaKeys.extend(list(bbMeta[k][i].keys()))\n",
    "\n",
    "allMetaKeysSet = set(allMetaKeys)\n",
    "\n",
    "keysOI = []\n",
    "for k in allMetaKeysSet:\n",
    "    if allMetaKeys.count(k) == (len(keys)*7):\n",
    "        keysOI.append(k)\n",
    "\n",
    "print(\"Meta values to use: \\n\\n\", keysOI)"
   ]
  },
  {
   "cell_type": "code",
   "execution_count": 34,
   "metadata": {},
   "outputs": [],
   "source": [
    "# Extract all the unique variables in the keysOI\n",
    "kDict = {}    \n",
    "for kOI in keysOI:\n",
    "    kDict[kOI] = set()\n",
    "    for k in keys:\n",
    "        for i in instTime:\n",
    "            if type(bbMeta[k][i][kOI]) == str:\n",
    "                kDict[kOI].add(bbMeta[k][i][kOI])\n",
    "            elif type(bbMeta[k][i][kOI]) == list:\n",
    "                listStr = \"_\".join(list(map(str,bbMeta[k][i][kOI])))\n",
    "                kDict[kOI].add(listStr)\n",
    "            elif type(bbMeta[k][i][kOI]) == float:\n",
    "                kDict[kOI].add(bbMeta[k][i][kOI])"
   ]
  },
  {
   "cell_type": "code",
   "execution_count": 185,
   "metadata": {
    "tags": []
   },
   "outputs": [
    {
     "output_type": "stream",
     "name": "stdout",
     "text": [
      "[SlicePosition_PCS] 8679\nAccession Number 2\nEcho Train Length 1\nStudy ID 7\nWindow Center & Width Explanation 2\nEcho Number(s) 1\nImage Comments 3888\n[TimeAfterStart] 5218\nSamples per Pixel 1\nProtocol Name 2\n[SliceMeasurementDuration] 14\nImage Position (Patient) 24602\nLargest Image Pixel Value 1677\n[AcquisitionMatrixText] 6\nRepetition Time 15\n[TablePositionOrigin] 440\nSlice Location 193\n[ImaAbsTablePosition] 447\nImage Orientation (Patient) 24\nColumns 2\nAcquisition Time 328030\n[CSA Series Header Version] 1933\n[ImaRelTablePosition] 175\nSmallest Image Pixel Value 1\nPatient's Age 38\nPixel Spacing 13\nNumber of Averages 1\nSequence Variant 2\nFlip Angle 1\nPatient's Birth Date 38\nPixel Representation 1\nInstance Creation Time 330114\nWindow Center 458\nSeries Number 50\n[CoilString] 111\nPercent Sampling 1\nSlice Thickness 1\nNumber of Phase Encoding Steps 4\nEcho Time 2\nInversion Time 4\nAcquisition Matrix 6\nBits Stored 1\nWindow Width 979\nPatient's Sex 3\nSAR 47362\nDevice Serial Number 4\nBits Allocated 1\n[CSA Image Header Version] 1933\n[RealDwellTime] 2\nPercent Phase Field of View 5\n[SliceResolution] 1\nContent Time 330013\nPatient's Size 73\nImaging Frequency 1508\nScan Options 2\nRows 6\nStudy Description 26\nPatient Position 2\nIn-plane Phase Encoding Direction 2\nSeries Description 2\nPixel Bandwidth 2\nAcquisition Number 1\nHigh Bit 1\nPatient's Weight 121\nMagnetic Field Strength 1\nBody Part Examined 5\ndB/dt 1\nSequence Name 5\n##################################################\nSAR\n"
     ]
    }
   ],
   "source": [
    "for kOI in keysOI:\n",
    "    print(kOI,len(kDict[kOI]))\n",
    "\n",
    "print(\"#\"*50)\n",
    "\n",
    "for kOI in keysOI:\n",
    "    if len(kDict[kOI]) == 47362:\n",
    "        print(kOI)"
   ]
  },
  {
   "cell_type": "code",
   "execution_count": 24,
   "metadata": {},
   "outputs": [],
   "source": [
    "# import copy\n",
    "\n",
    "# keysOICopy = copy.deepcopy(keysOI)\n",
    "# for kOI in keysOICopy:\n",
    "#     if len(kDict[kOI]) == 1:\n",
    "#         print(kOI,kDict[kOI])\n",
    "#         keysOI.remove(kOI)"
   ]
  },
  {
   "cell_type": "code",
   "execution_count": 184,
   "metadata": {},
   "outputs": [
    {
     "output_type": "stream",
     "name": "stdout",
     "text": [
      "Study Date not in list\nInstitution Address not in list\nStudy Time not in list\nInstance Creation Date not in list\nInstitution Name not in list\nSeries Date not in list\nAcquisition Date not in list\nSeries Time not in list\nInstance Number not in list\nInstitutional Department Name not in list\nContent Date not in list\n68\n['[SlicePosition_PCS]', 'Accession Number', 'Echo Train Length', 'Study ID', 'Window Center & Width Explanation', 'Echo Number(s)', 'Image Comments', '[TimeAfterStart]', 'Samples per Pixel', 'Protocol Name', '[SliceMeasurementDuration]', 'Image Position (Patient)', 'Largest Image Pixel Value', '[AcquisitionMatrixText]', 'Repetition Time', '[TablePositionOrigin]', 'Slice Location', '[ImaAbsTablePosition]', 'Image Orientation (Patient)', 'Columns', 'Acquisition Time', '[CSA Series Header Version]', '[ImaRelTablePosition]', 'Smallest Image Pixel Value', \"Patient's Age\", 'Pixel Spacing', 'Number of Averages', 'Sequence Variant', 'Flip Angle', \"Patient's Birth Date\", 'Pixel Representation', 'Instance Creation Time', 'Window Center', 'Series Number', '[CoilString]', 'Percent Sampling', 'Slice Thickness', 'Number of Phase Encoding Steps', 'Echo Time', 'Inversion Time', 'Acquisition Matrix', 'Bits Stored', 'Window Width', \"Patient's Sex\", 'SAR', 'Device Serial Number', 'Bits Allocated', '[CSA Image Header Version]', '[RealDwellTime]', 'Percent Phase Field of View', '[SliceResolution]', 'Content Time', \"Patient's Size\", 'Imaging Frequency', 'Scan Options', 'Rows', 'Study Description', 'Patient Position', 'In-plane Phase Encoding Direction', 'Series Description', 'Pixel Bandwidth', 'Acquisition Number', 'High Bit', \"Patient's Weight\", 'Magnetic Field Strength', 'Body Part Examined', 'dB/dt', 'Sequence Name']\n"
     ]
    }
   ],
   "source": [
    "# Manual Edit to remove date and time instances:\n",
    "\n",
    "deletedList = ['Study Date','Institution Address','Study Time','Instance Creation Date','Institution Name','Series Date','Acquisition Date','Series Time',\"Instance Number\",'Institutional Department Name','Content Date',\"Patient ID\"]\n",
    "\n",
    "for dL in deletedList:\n",
    "    try:\n",
    "        keysOI.remove(dL)\n",
    "    except ValueError as e:\n",
    "        print(\"{} not in list\".format(dL))\n",
    "\n",
    "print(len(keysOI))\n",
    "print(keysOI)"
   ]
  },
  {
   "cell_type": "code",
   "execution_count": 186,
   "metadata": {
    "tags": []
   },
   "outputs": [
    {
     "output_type": "stream",
     "name": "stdout",
     "text": [
      "[SlicePosition_PCS]\n",
      "Accession Number\n",
      "Echo Train Length\n",
      "Study ID\n",
      "Window Center & Width Explanation\n",
      "Echo Number(s)\n",
      "Image Comments\n",
      "[TimeAfterStart]\n",
      "Samples per Pixel\n",
      "Protocol Name\n",
      "[SliceMeasurementDuration]\n",
      "Image Position (Patient)\n",
      "Largest Image Pixel Value\n",
      "[AcquisitionMatrixText]\n",
      "Repetition Time\n",
      "[TablePositionOrigin]\n",
      "Slice Location\n",
      "[ImaAbsTablePosition]\n",
      "Image Orientation (Patient)\n",
      "Columns\n",
      "Acquisition Time\n",
      "[CSA Series Header Version]\n",
      "[ImaRelTablePosition]\n",
      "Smallest Image Pixel Value\n",
      "Patient's Age\n",
      "Pixel Spacing\n",
      "Number of Averages\n",
      "Sequence Variant\n",
      "Flip Angle\n",
      "Patient's Birth Date\n",
      "Pixel Representation\n",
      "Instance Creation Time\n",
      "Window Center\n",
      "Series Number\n",
      "[CoilString]\n",
      "Percent Sampling\n",
      "Slice Thickness\n",
      "Number of Phase Encoding Steps\n",
      "Echo Time\n",
      "Inversion Time\n",
      "Acquisition Matrix\n",
      "Bits Stored\n",
      "Window Width\n",
      "Patient's Sex\n",
      "SAR\n",
      "Device Serial Number\n",
      "Bits Allocated\n",
      "[CSA Image Header Version]\n",
      "[RealDwellTime]\n",
      "Percent Phase Field of View\n",
      "[SliceResolution]\n",
      "Content Time\n",
      "Patient's Size\n",
      "Imaging Frequency\n",
      "Scan Options\n",
      "Rows\n",
      "Study Description\n",
      "Patient Position\n",
      "In-plane Phase Encoding Direction\n",
      "Series Description\n",
      "Pixel Bandwidth\n",
      "Acquisition Number\n",
      "High Bit\n",
      "Patient's Weight\n",
      "Magnetic Field Strength\n",
      "Body Part Examined\n",
      "dB/dt\n",
      "Sequence Name\n"
     ]
    }
   ],
   "source": [
    "import pandas as pd\n",
    "import re\n",
    "\n",
    "\n",
    "sub_bbDict = {}\n",
    "for kOI_idx,kOI in enumerate(keysOI):\n",
    "    print(kOI)\n",
    "    for k_idx,k in enumerate(keys):\n",
    "        instList = [bbMeta[k][i][kOI] for i in instTime]\n",
    "\n",
    "        if kOI == \"Image Comments\":\n",
    "            instList = [re.findall(\"\\d+\",itm)[0] for itm in instList]\n",
    "            instList = list(map(float,instList))\n",
    "        elif kOI in [\"Acquisition Time\",\"Instance Creation Time\",\"Content Time\"]:\n",
    "            instList = list(map(float,instList))\n",
    "            \n",
    "        if type(instList[0]) == list:\n",
    "            if type(instList[0][0]) == float:\n",
    "                tempList = [\"_\".join(list(map(str,instList[int(i)-1]))) for i in instTime]\n",
    "                tempSet = set(tempList)\n",
    "\n",
    "                if len(tempSet) == 1:\n",
    "                    instList = instList[0]\n",
    "                else:\n",
    "                    if len(tempSet) < 7:\n",
    "                        maxCount = 0\n",
    "                        for itm in tempSet:\n",
    "                            cnt = tempList.count(itm)\n",
    "                            if cnt > maxCount:\n",
    "                                maxCount = cnt\n",
    "                                instList = itm\n",
    "                        instList = list(map(float,instList.split(\"_\")))\n",
    "                    else:\n",
    "                        print(\"Main Type: {}, {}, {}\".format(type(instList[0]),kOI,k))\n",
    "                        sys.exit()\n",
    "\n",
    "                for i in range(len(instList)):\n",
    "                    tempKOI = \"{}_{}\".format(kOI,i)\n",
    "                    if k_idx == 0:\n",
    "                        sub_bbDict[tempKOI] = {}\n",
    "                    sub_bbDict[tempKOI][k] = instList[i]\n",
    "\n",
    "        elif type(instList[0]) == str:\n",
    "            tempSet = set(instList)\n",
    "            if len(tempSet) == 1:\n",
    "                instList = instList[0]\n",
    "            else:\n",
    "                if len(tempSet) < 7:\n",
    "                    maxCount = 0\n",
    "                    maxItm = \"\"\n",
    "                    for itm in tempSet:\n",
    "                        cnt = instList.count(itm)\n",
    "                        if cnt > maxCount:\n",
    "                            maxCount = cnt\n",
    "                            maxItm = itm\n",
    "                    instList = maxItm\n",
    "                else:\n",
    "                    print(\"Main Type: {}, {}, {}\".format(type(instList[0]),kOI,k))\n",
    "                    sys.exit()\n",
    "\n",
    "            if k_idx == 0:\n",
    "                sub_bbDict[kOI] = {}\n",
    "\n",
    "            sub_bbDict[kOI][k] = instList\n",
    "\n",
    "        elif type(instList[0]) == float:\n",
    "            tempSet = set(instList)\n",
    "            notSeven = True\n",
    "\n",
    "            if kOI in [\"[SliceMeasurementDuration]\",\"Largest Image Pixel Value\",\"Window Center\",\"Window Width\",\"Content Time\"]:\n",
    "                for i in range(len(instList)):\n",
    "                    tempKOI = \"{}_{}\".format(kOI,i)\n",
    "                    if k_idx == 0:\n",
    "                        sub_bbDict[tempKOI] = {}\n",
    "                    sub_bbDict[tempKOI][k] = instList[i]\n",
    "                notSeven = False\n",
    "\n",
    "            elif kOI == \"Image Comments\":\n",
    "                for i in range(len(instList)):\n",
    "                    tempKOI = \"{}_{}\".format(\"TI\",i)\n",
    "                    if k_idx == 0:\n",
    "                        sub_bbDict[tempKOI] = {}\n",
    "                    sub_bbDict[tempKOI][k] = instList[i]\n",
    "                notSeven = False\n",
    "\n",
    "            elif len(tempSet) == 1:\n",
    "                instList = instList[0]\n",
    "\n",
    "            elif len(tempSet) == 7:\n",
    "                for i in range(len(instList)):\n",
    "                    tempKOI = \"{}_{}\".format(kOI,i)\n",
    "                    if k_idx == 0:\n",
    "                        sub_bbDict[tempKOI] = {}\n",
    "                    sub_bbDict[tempKOI][k] = instList[i]\n",
    "                notSeven = False\n",
    "\n",
    "            elif len(tempSet) < 7:\n",
    "                maxCount = 0\n",
    "                for itm in tempSet:\n",
    "                    cnt = tempList.count(itm)\n",
    "                    if cnt > maxCount:\n",
    "                        maxCount = cnt\n",
    "                        instList = itm\n",
    "            else:\n",
    "                print(\"Main Type: {}, {}, {}\".format(type(instList[0]),kOI,k))\n",
    "                sys.exit()\n",
    "\n",
    "            if notSeven:\n",
    "                if k_idx == 0:\n",
    "                    sub_bbDict[kOI] = {}\n",
    "                sub_bbDict[kOI][k] = instList\n",
    "        else:\n",
    "            print(kOI,instList)\n",
    "            sys.exit()\n",
    "\n",
    "        # for i in instTime:\n",
    "        #     if type(bbMeta[k][i][kOI]) == str:\n",
    "        #         sub_bbDict[kOI][k].append(bbMeta[k][i][kOI])\n",
    "        #     elif type(bbMeta[k][i][kOI]) == list:\n",
    "        #         listStr = \"_\".join(list(map(str,bbMeta[k][i][kOI])))\n",
    "        #         sub_bbDict[kOI][k].append(listStr)\n",
    "        #     elif type(bbMeta[k][i][kOI]) == float:\n",
    "        #         sub_bbDict[kOI][k].append(bbMeta[k][i][kOI])\n"
   ]
  },
  {
   "cell_type": "code",
   "execution_count": 187,
   "metadata": {},
   "outputs": [
    {
     "output_type": "stream",
     "name": "stdout",
     "text": [
      "tfi2d1_84\n{'tfi2d1_84'}\n47363\n"
     ]
    }
   ],
   "source": [
    "print(instList)\n",
    "print(tempSet)\n",
    "print(k_idx)"
   ]
  },
  {
   "cell_type": "code",
   "execution_count": 188,
   "metadata": {
    "tags": []
   },
   "outputs": [
    {
     "output_type": "stream",
     "name": "stdout",
     "text": [
      "126\ndict_keys(['[SlicePosition_PCS]_0', '[SlicePosition_PCS]_1', '[SlicePosition_PCS]_2', 'Accession Number', 'Echo Train Length', 'Study ID', 'Window Center & Width Explanation', 'Echo Number(s)', 'TI_0', 'TI_1', 'TI_2', 'TI_3', 'TI_4', 'TI_5', 'TI_6', '[TimeAfterStart]_0', '[TimeAfterStart]_1', '[TimeAfterStart]_2', '[TimeAfterStart]_3', '[TimeAfterStart]_4', '[TimeAfterStart]_5', '[TimeAfterStart]_6', 'Samples per Pixel', 'Protocol Name', '[SliceMeasurementDuration]_0', '[SliceMeasurementDuration]_1', '[SliceMeasurementDuration]_2', '[SliceMeasurementDuration]_3', '[SliceMeasurementDuration]_4', '[SliceMeasurementDuration]_5', '[SliceMeasurementDuration]_6', 'Image Position (Patient)_0', 'Image Position (Patient)_1', 'Image Position (Patient)_2', 'Largest Image Pixel Value_0', 'Largest Image Pixel Value_1', 'Largest Image Pixel Value_2', 'Largest Image Pixel Value_3', 'Largest Image Pixel Value_4', 'Largest Image Pixel Value_5', 'Largest Image Pixel Value_6', '[AcquisitionMatrixText]', 'Repetition Time', 'Slice Location', 'Image Orientation (Patient)_0', 'Image Orientation (Patient)_1', 'Image Orientation (Patient)_2', 'Image Orientation (Patient)_3', 'Image Orientation (Patient)_4', 'Image Orientation (Patient)_5', 'Columns', 'Acquisition Time_0', 'Acquisition Time_1', 'Acquisition Time_2', 'Acquisition Time_3', 'Acquisition Time_4', 'Acquisition Time_5', 'Acquisition Time_6', '[CSA Series Header Version]', 'Smallest Image Pixel Value', \"Patient's Age\", 'Pixel Spacing_0', 'Pixel Spacing_1', 'Number of Averages', 'Flip Angle', \"Patient's Birth Date\", 'Pixel Representation', 'Instance Creation Time_0', 'Instance Creation Time_1', 'Instance Creation Time_2', 'Instance Creation Time_3', 'Instance Creation Time_4', 'Instance Creation Time_5', 'Instance Creation Time_6', 'Window Center_0', 'Window Center_1', 'Window Center_2', 'Window Center_3', 'Window Center_4', 'Window Center_5', 'Window Center_6', 'Series Number', '[CoilString]', 'Percent Sampling', 'Slice Thickness', 'Number of Phase Encoding Steps', 'Echo Time', 'Inversion Time', 'Bits Stored', 'Window Width_0', 'Window Width_1', 'Window Width_2', 'Window Width_3', 'Window Width_4', 'Window Width_5', 'Window Width_6', \"Patient's Sex\", 'SAR', 'Device Serial Number', 'Bits Allocated', '[CSA Image Header Version]', '[RealDwellTime]', 'Percent Phase Field of View', '[SliceResolution]', 'Content Time_0', 'Content Time_1', 'Content Time_2', 'Content Time_3', 'Content Time_4', 'Content Time_5', 'Content Time_6', \"Patient's Size\", 'Imaging Frequency', 'Rows', 'Study Description', 'Patient Position', 'In-plane Phase Encoding Direction', 'Series Description', 'Pixel Bandwidth', 'Acquisition Number', 'High Bit', \"Patient's Weight\", 'Magnetic Field Strength', 'Body Part Examined', 'dB/dt', 'Sequence Name'])\n"
     ]
    }
   ],
   "source": [
    "print(len(sub_bbDict.keys()))\n",
    "print(sub_bbDict.keys())"
   ]
  },
  {
   "cell_type": "code",
   "execution_count": 189,
   "metadata": {},
   "outputs": [
    {
     "output_type": "stream",
     "name": "stdout",
     "text": [
      "                   [SlicePosition_PCS]_0  [SlicePosition_PCS]_1  \\\n1000058_20204_2_0            -221.116078            -140.753756   \n1000197_20204_2_0            -221.116078            -166.116076   \n1000200_20204_2_0            -222.323807            -163.700617   \n1000344_20204_2_0            -221.116078            -166.116076   \n1000344_20204_3_0            -213.869700            -164.908346   \n...                                  ...                    ...   \n6025824_20204_2_0            -233.193373            -137.130568   \n6025986_20204_2_0            -221.116078            -166.116076   \n6026050_20204_2_0            -221.116078            -166.116076   \n6026050_20204_3_0            -207.831053            -143.169214   \n6026116_20204_2_0            -197.492874            -129.376934   \n\n                   [SlicePosition_PCS]_2 Accession Number  Echo Train Length  \\\n1000058_20204_2_0                  -0.25                                 1.0   \n1000197_20204_2_0                  -0.25                                 1.0   \n1000200_20204_2_0                   0.25                                 1.0   \n1000344_20204_2_0                  -0.25                                 1.0   \n1000344_20204_3_0                  -0.25                                 1.0   \n...                                  ...              ...                ...   \n6025824_20204_2_0                  -0.25                                 1.0   \n6025986_20204_2_0                  -0.25                                 1.0   \n6026050_20204_2_0                   0.25                                 1.0   \n6026050_20204_3_0                   0.25                                 1.0   \n6026116_20204_2_0                   0.25                                 1.0   \n\n                  Study ID Window Center & Width Explanation  Echo Number(s)  \\\n1000058_20204_2_0        1                             Algo1             1.0   \n1000197_20204_2_0        1                             Algo1             1.0   \n1000200_20204_2_0        1                             Algo1             1.0   \n1000344_20204_2_0        1                             Algo1             1.0   \n1000344_20204_3_0        1                             Algo1             1.0   \n...                    ...                               ...             ...   \n6025824_20204_2_0        1                             Algo1             1.0   \n6025986_20204_2_0        1                             Algo1             1.0   \n6026050_20204_2_0        1                             Algo1             1.0   \n6026050_20204_3_0        1                             Algo1             1.0   \n6026116_20204_2_0        1                             Algo1             1.0   \n\n                    TI_0    TI_1  ...  In-plane Phase Encoding Direction  \\\n1000058_20204_2_0  170.0  1122.0  ...                                COL   \n1000197_20204_2_0  170.0  1085.0  ...                                COL   \n1000200_20204_2_0  170.0  1203.0  ...                                COL   \n1000344_20204_2_0  170.0  1255.0  ...                                COL   \n1000344_20204_3_0  170.0  1170.0  ...                                COL   \n...                  ...     ...  ...                                ...   \n6025824_20204_2_0  170.0  1128.0  ...                                COL   \n6025986_20204_2_0  170.0  1142.0  ...                                COL   \n6026050_20204_2_0  170.0  1263.0  ...                                COL   \n6026050_20204_3_0  170.0  1173.0  ...                                COL   \n6026116_20204_2_0  100.0  1200.0  ...                                COL   \n\n                   Series Description  Pixel Bandwidth  Acquisition Number  \\\n1000058_20204_2_0  ShMOLLI_192i LIVER            245.0                 1.0   \n1000197_20204_2_0  ShMOLLI_192i LIVER            245.0                 1.0   \n1000200_20204_2_0  ShMOLLI_192i LIVER            245.0                 1.0   \n1000344_20204_2_0  ShMOLLI_192i LIVER            245.0                 1.0   \n1000344_20204_3_0  ShMOLLI_192i LIVER            245.0                 1.0   \n...                               ...              ...                 ...   \n6025824_20204_2_0  ShMOLLI_192i LIVER            245.0                 1.0   \n6025986_20204_2_0  ShMOLLI_192i LIVER            245.0                 1.0   \n6026050_20204_2_0  ShMOLLI_192i LIVER            245.0                 1.0   \n6026050_20204_3_0  ShMOLLI_192i LIVER            245.0                 1.0   \n6026116_20204_2_0        ShMOLLI_192i            900.0                 1.0   \n\n                   High Bit  Patient's Weight  Magnetic Field Strength  \\\n1000058_20204_2_0      11.0              75.0                      1.5   \n1000197_20204_2_0      11.0              70.0                      1.5   \n1000200_20204_2_0      11.0              75.0                      1.5   \n1000344_20204_2_0      11.0              96.0                      1.5   \n1000344_20204_3_0      11.0             101.0                      1.5   \n...                     ...               ...                      ...   \n6025824_20204_2_0      11.0              58.0                      1.5   \n6025986_20204_2_0      11.0              95.0                      1.5   \n6026050_20204_2_0      11.0              70.0                      1.5   \n6026050_20204_3_0      11.0              71.0                      1.5   \n6026116_20204_2_0      11.0              76.0                      1.5   \n\n                   Body Part Examined  dB/dt  Sequence Name  \n1000058_20204_2_0             ABDOMEN    0.0      tfi2d1_84  \n1000197_20204_2_0             ABDOMEN    0.0      tfi2d1_84  \n1000200_20204_2_0             ABDOMEN    0.0      tfi2d1_84  \n1000344_20204_2_0             ABDOMEN    0.0      tfi2d1_84  \n1000344_20204_3_0             ABDOMEN    0.0      tfi2d1_84  \n...                               ...    ...            ...  \n6025824_20204_2_0             ABDOMEN    0.0      tfi2d1_84  \n6025986_20204_2_0             ABDOMEN    0.0      tfi2d1_84  \n6026050_20204_2_0             ABDOMEN    0.0      tfi2d1_84  \n6026050_20204_3_0             ABDOMEN    0.0      tfi2d1_84  \n6026116_20204_2_0             ABDOMEN    0.0      tfi2d1_84  \n\n[47364 rows x 126 columns]\n"
     ]
    },
    {
     "output_type": "error",
     "ename": "NameError",
     "evalue": "name 'saveDir' is not defined",
     "traceback": [
      "\u001b[1;31m---------------------------------------------------------------------------\u001b[0m",
      "\u001b[1;31mNameError\u001b[0m                                 Traceback (most recent call last)",
      "\u001b[1;32m<ipython-input-189-5f88bc0c5990>\u001b[0m in \u001b[0;36m<module>\u001b[1;34m\u001b[0m\n\u001b[0;32m      2\u001b[0m \u001b[0mprint\u001b[0m\u001b[1;33m(\u001b[0m\u001b[0mdf\u001b[0m\u001b[1;33m)\u001b[0m\u001b[1;33m\u001b[0m\u001b[1;33m\u001b[0m\u001b[0m\n\u001b[0;32m      3\u001b[0m \u001b[1;33m\u001b[0m\u001b[0m\n\u001b[1;32m----> 4\u001b[1;33m \u001b[0mdf\u001b[0m\u001b[1;33m.\u001b[0m\u001b[0mto_excel\u001b[0m\u001b[1;33m(\u001b[0m\u001b[0mos\u001b[0m\u001b[1;33m.\u001b[0m\u001b[0mpath\u001b[0m\u001b[1;33m.\u001b[0m\u001b[0mjoin\u001b[0m\u001b[1;33m(\u001b[0m\u001b[0msaveDir\u001b[0m\u001b[1;33m,\u001b[0m\u001b[1;34m\"sub_bbdict.xlsx\"\u001b[0m\u001b[1;33m)\u001b[0m\u001b[1;33m)\u001b[0m\u001b[1;33m\u001b[0m\u001b[1;33m\u001b[0m\u001b[0m\n\u001b[0m",
      "\u001b[1;31mNameError\u001b[0m: name 'saveDir' is not defined"
     ]
    }
   ],
   "source": [
    "df = pd.DataFrame(sub_bbDict)\n",
    "print(df)"
   ]
  },
  {
   "cell_type": "code",
   "execution_count": 191,
   "metadata": {},
   "outputs": [],
   "source": [
    "df.to_excel(\"sub_bbdict.xlsx\")"
   ]
  },
  {
   "cell_type": "code",
   "execution_count": null,
   "metadata": {},
   "outputs": [],
   "source": [
    "# Noteworthy:\n",
    "\n",
    "[SlicePosition_PCS] 2135964_20204_2_0\n",
    "Slice Location, 2135964_20204_2_0"
   ]
  },
  {
   "source": [
    "## Load excel into pandas"
   ],
   "cell_type": "markdown",
   "metadata": {}
  },
  {
   "cell_type": "code",
   "execution_count": 72,
   "metadata": {},
   "outputs": [],
   "source": [
    "import pandas as pd\n",
    "\n",
    "df = pd.read_excel(\"sub_bbdict.xlsx\")"
   ]
  },
  {
   "cell_type": "code",
   "execution_count": 73,
   "metadata": {},
   "outputs": [
    {
     "output_type": "execute_result",
     "data": {
      "text/plain": [
       "              Unnamed: 0  [SlicePosition_PCS]_0  [SlicePosition_PCS]_1  \\\n",
       "0      1000058_20204_2_0            -221.116078            -140.753756   \n",
       "1      1000197_20204_2_0            -221.116078            -166.116076   \n",
       "2      1000200_20204_2_0            -222.323807            -163.700617   \n",
       "3      1000344_20204_2_0            -221.116078            -166.116076   \n",
       "4      1000344_20204_3_0            -213.869700            -164.908346   \n",
       "...                  ...                    ...                    ...   \n",
       "47359  6025824_20204_2_0            -233.193373            -137.130568   \n",
       "47360  6025986_20204_2_0            -221.116078            -166.116076   \n",
       "47361  6026050_20204_2_0            -221.116078            -166.116076   \n",
       "47362  6026050_20204_3_0            -207.831053            -143.169214   \n",
       "47363  6026116_20204_2_0            -197.492874            -129.376934   \n",
       "\n",
       "       [SlicePosition_PCS]_2  Accession Number  Echo Train Length Study ID  \\\n",
       "0                      -0.25               NaN                  1        1   \n",
       "1                      -0.25               NaN                  1        1   \n",
       "2                       0.25               NaN                  1        1   \n",
       "3                      -0.25               NaN                  1        1   \n",
       "4                      -0.25               NaN                  1        1   \n",
       "...                      ...               ...                ...      ...   \n",
       "47359                  -0.25               NaN                  1        1   \n",
       "47360                  -0.25               NaN                  1        1   \n",
       "47361                   0.25               NaN                  1        1   \n",
       "47362                   0.25               NaN                  1        1   \n",
       "47363                   0.25               NaN                  1        1   \n",
       "\n",
       "      Window Center & Width Explanation  Echo Number(s)  TI_0  ...  \\\n",
       "0                                 Algo1               1   170  ...   \n",
       "1                                 Algo1               1   170  ...   \n",
       "2                                 Algo1               1   170  ...   \n",
       "3                                 Algo1               1   170  ...   \n",
       "4                                 Algo1               1   170  ...   \n",
       "...                                 ...             ...   ...  ...   \n",
       "47359                             Algo1               1   170  ...   \n",
       "47360                             Algo1               1   170  ...   \n",
       "47361                             Algo1               1   170  ...   \n",
       "47362                             Algo1               1   170  ...   \n",
       "47363                             Algo1               1   100  ...   \n",
       "\n",
       "       In-plane Phase Encoding Direction  Series Description  Pixel Bandwidth  \\\n",
       "0                                    COL  ShMOLLI_192i LIVER              245   \n",
       "1                                    COL  ShMOLLI_192i LIVER              245   \n",
       "2                                    COL  ShMOLLI_192i LIVER              245   \n",
       "3                                    COL  ShMOLLI_192i LIVER              245   \n",
       "4                                    COL  ShMOLLI_192i LIVER              245   \n",
       "...                                  ...                 ...              ...   \n",
       "47359                                COL  ShMOLLI_192i LIVER              245   \n",
       "47360                                COL  ShMOLLI_192i LIVER              245   \n",
       "47361                                COL  ShMOLLI_192i LIVER              245   \n",
       "47362                                COL  ShMOLLI_192i LIVER              245   \n",
       "47363                                COL        ShMOLLI_192i              900   \n",
       "\n",
       "       Acquisition Number  High Bit  Patient's Weight  \\\n",
       "0                       1        11                75   \n",
       "1                       1        11                70   \n",
       "2                       1        11                75   \n",
       "3                       1        11                96   \n",
       "4                       1        11               101   \n",
       "...                   ...       ...               ...   \n",
       "47359                   1        11                58   \n",
       "47360                   1        11                95   \n",
       "47361                   1        11                70   \n",
       "47362                   1        11                71   \n",
       "47363                   1        11                76   \n",
       "\n",
       "       Magnetic Field Strength  Body Part Examined  dB/dt  Sequence Name  \n",
       "0                          1.5             ABDOMEN      0      tfi2d1_84  \n",
       "1                          1.5             ABDOMEN      0      tfi2d1_84  \n",
       "2                          1.5             ABDOMEN      0      tfi2d1_84  \n",
       "3                          1.5             ABDOMEN      0      tfi2d1_84  \n",
       "4                          1.5             ABDOMEN      0      tfi2d1_84  \n",
       "...                        ...                 ...    ...            ...  \n",
       "47359                      1.5             ABDOMEN      0      tfi2d1_84  \n",
       "47360                      1.5             ABDOMEN      0      tfi2d1_84  \n",
       "47361                      1.5             ABDOMEN      0      tfi2d1_84  \n",
       "47362                      1.5             ABDOMEN      0      tfi2d1_84  \n",
       "47363                      1.5             ABDOMEN      0      tfi2d1_84  \n",
       "\n",
       "[47364 rows x 127 columns]"
      ],
      "text/html": "<div>\n<style scoped>\n    .dataframe tbody tr th:only-of-type {\n        vertical-align: middle;\n    }\n\n    .dataframe tbody tr th {\n        vertical-align: top;\n    }\n\n    .dataframe thead th {\n        text-align: right;\n    }\n</style>\n<table border=\"1\" class=\"dataframe\">\n  <thead>\n    <tr style=\"text-align: right;\">\n      <th></th>\n      <th>Unnamed: 0</th>\n      <th>[SlicePosition_PCS]_0</th>\n      <th>[SlicePosition_PCS]_1</th>\n      <th>[SlicePosition_PCS]_2</th>\n      <th>Accession Number</th>\n      <th>Echo Train Length</th>\n      <th>Study ID</th>\n      <th>Window Center &amp; Width Explanation</th>\n      <th>Echo Number(s)</th>\n      <th>TI_0</th>\n      <th>...</th>\n      <th>In-plane Phase Encoding Direction</th>\n      <th>Series Description</th>\n      <th>Pixel Bandwidth</th>\n      <th>Acquisition Number</th>\n      <th>High Bit</th>\n      <th>Patient's Weight</th>\n      <th>Magnetic Field Strength</th>\n      <th>Body Part Examined</th>\n      <th>dB/dt</th>\n      <th>Sequence Name</th>\n    </tr>\n  </thead>\n  <tbody>\n    <tr>\n      <th>0</th>\n      <td>1000058_20204_2_0</td>\n      <td>-221.116078</td>\n      <td>-140.753756</td>\n      <td>-0.25</td>\n      <td>NaN</td>\n      <td>1</td>\n      <td>1</td>\n      <td>Algo1</td>\n      <td>1</td>\n      <td>170</td>\n      <td>...</td>\n      <td>COL</td>\n      <td>ShMOLLI_192i LIVER</td>\n      <td>245</td>\n      <td>1</td>\n      <td>11</td>\n      <td>75</td>\n      <td>1.5</td>\n      <td>ABDOMEN</td>\n      <td>0</td>\n      <td>tfi2d1_84</td>\n    </tr>\n    <tr>\n      <th>1</th>\n      <td>1000197_20204_2_0</td>\n      <td>-221.116078</td>\n      <td>-166.116076</td>\n      <td>-0.25</td>\n      <td>NaN</td>\n      <td>1</td>\n      <td>1</td>\n      <td>Algo1</td>\n      <td>1</td>\n      <td>170</td>\n      <td>...</td>\n      <td>COL</td>\n      <td>ShMOLLI_192i LIVER</td>\n      <td>245</td>\n      <td>1</td>\n      <td>11</td>\n      <td>70</td>\n      <td>1.5</td>\n      <td>ABDOMEN</td>\n      <td>0</td>\n      <td>tfi2d1_84</td>\n    </tr>\n    <tr>\n      <th>2</th>\n      <td>1000200_20204_2_0</td>\n      <td>-222.323807</td>\n      <td>-163.700617</td>\n      <td>0.25</td>\n      <td>NaN</td>\n      <td>1</td>\n      <td>1</td>\n      <td>Algo1</td>\n      <td>1</td>\n      <td>170</td>\n      <td>...</td>\n      <td>COL</td>\n      <td>ShMOLLI_192i LIVER</td>\n      <td>245</td>\n      <td>1</td>\n      <td>11</td>\n      <td>75</td>\n      <td>1.5</td>\n      <td>ABDOMEN</td>\n      <td>0</td>\n      <td>tfi2d1_84</td>\n    </tr>\n    <tr>\n      <th>3</th>\n      <td>1000344_20204_2_0</td>\n      <td>-221.116078</td>\n      <td>-166.116076</td>\n      <td>-0.25</td>\n      <td>NaN</td>\n      <td>1</td>\n      <td>1</td>\n      <td>Algo1</td>\n      <td>1</td>\n      <td>170</td>\n      <td>...</td>\n      <td>COL</td>\n      <td>ShMOLLI_192i LIVER</td>\n      <td>245</td>\n      <td>1</td>\n      <td>11</td>\n      <td>96</td>\n      <td>1.5</td>\n      <td>ABDOMEN</td>\n      <td>0</td>\n      <td>tfi2d1_84</td>\n    </tr>\n    <tr>\n      <th>4</th>\n      <td>1000344_20204_3_0</td>\n      <td>-213.869700</td>\n      <td>-164.908346</td>\n      <td>-0.25</td>\n      <td>NaN</td>\n      <td>1</td>\n      <td>1</td>\n      <td>Algo1</td>\n      <td>1</td>\n      <td>170</td>\n      <td>...</td>\n      <td>COL</td>\n      <td>ShMOLLI_192i LIVER</td>\n      <td>245</td>\n      <td>1</td>\n      <td>11</td>\n      <td>101</td>\n      <td>1.5</td>\n      <td>ABDOMEN</td>\n      <td>0</td>\n      <td>tfi2d1_84</td>\n    </tr>\n    <tr>\n      <th>...</th>\n      <td>...</td>\n      <td>...</td>\n      <td>...</td>\n      <td>...</td>\n      <td>...</td>\n      <td>...</td>\n      <td>...</td>\n      <td>...</td>\n      <td>...</td>\n      <td>...</td>\n      <td>...</td>\n      <td>...</td>\n      <td>...</td>\n      <td>...</td>\n      <td>...</td>\n      <td>...</td>\n      <td>...</td>\n      <td>...</td>\n      <td>...</td>\n      <td>...</td>\n      <td>...</td>\n    </tr>\n    <tr>\n      <th>47359</th>\n      <td>6025824_20204_2_0</td>\n      <td>-233.193373</td>\n      <td>-137.130568</td>\n      <td>-0.25</td>\n      <td>NaN</td>\n      <td>1</td>\n      <td>1</td>\n      <td>Algo1</td>\n      <td>1</td>\n      <td>170</td>\n      <td>...</td>\n      <td>COL</td>\n      <td>ShMOLLI_192i LIVER</td>\n      <td>245</td>\n      <td>1</td>\n      <td>11</td>\n      <td>58</td>\n      <td>1.5</td>\n      <td>ABDOMEN</td>\n      <td>0</td>\n      <td>tfi2d1_84</td>\n    </tr>\n    <tr>\n      <th>47360</th>\n      <td>6025986_20204_2_0</td>\n      <td>-221.116078</td>\n      <td>-166.116076</td>\n      <td>-0.25</td>\n      <td>NaN</td>\n      <td>1</td>\n      <td>1</td>\n      <td>Algo1</td>\n      <td>1</td>\n      <td>170</td>\n      <td>...</td>\n      <td>COL</td>\n      <td>ShMOLLI_192i LIVER</td>\n      <td>245</td>\n      <td>1</td>\n      <td>11</td>\n      <td>95</td>\n      <td>1.5</td>\n      <td>ABDOMEN</td>\n      <td>0</td>\n      <td>tfi2d1_84</td>\n    </tr>\n    <tr>\n      <th>47361</th>\n      <td>6026050_20204_2_0</td>\n      <td>-221.116078</td>\n      <td>-166.116076</td>\n      <td>0.25</td>\n      <td>NaN</td>\n      <td>1</td>\n      <td>1</td>\n      <td>Algo1</td>\n      <td>1</td>\n      <td>170</td>\n      <td>...</td>\n      <td>COL</td>\n      <td>ShMOLLI_192i LIVER</td>\n      <td>245</td>\n      <td>1</td>\n      <td>11</td>\n      <td>70</td>\n      <td>1.5</td>\n      <td>ABDOMEN</td>\n      <td>0</td>\n      <td>tfi2d1_84</td>\n    </tr>\n    <tr>\n      <th>47362</th>\n      <td>6026050_20204_3_0</td>\n      <td>-207.831053</td>\n      <td>-143.169214</td>\n      <td>0.25</td>\n      <td>NaN</td>\n      <td>1</td>\n      <td>1</td>\n      <td>Algo1</td>\n      <td>1</td>\n      <td>170</td>\n      <td>...</td>\n      <td>COL</td>\n      <td>ShMOLLI_192i LIVER</td>\n      <td>245</td>\n      <td>1</td>\n      <td>11</td>\n      <td>71</td>\n      <td>1.5</td>\n      <td>ABDOMEN</td>\n      <td>0</td>\n      <td>tfi2d1_84</td>\n    </tr>\n    <tr>\n      <th>47363</th>\n      <td>6026116_20204_2_0</td>\n      <td>-197.492874</td>\n      <td>-129.376934</td>\n      <td>0.25</td>\n      <td>NaN</td>\n      <td>1</td>\n      <td>1</td>\n      <td>Algo1</td>\n      <td>1</td>\n      <td>100</td>\n      <td>...</td>\n      <td>COL</td>\n      <td>ShMOLLI_192i</td>\n      <td>900</td>\n      <td>1</td>\n      <td>11</td>\n      <td>76</td>\n      <td>1.5</td>\n      <td>ABDOMEN</td>\n      <td>0</td>\n      <td>tfi2d1_84</td>\n    </tr>\n  </tbody>\n</table>\n<p>47364 rows × 127 columns</p>\n</div>"
     },
     "metadata": {},
     "execution_count": 73
    }
   ],
   "source": [
    "df"
   ]
  },
  {
   "cell_type": "code",
   "execution_count": 74,
   "metadata": {},
   "outputs": [],
   "source": [
    "keys = ['[SlicePosition_PCS]_0', '[SlicePosition_PCS]_1', '[SlicePosition_PCS]_2', 'Accession Number', 'Echo Train Length', 'Study ID', 'Window Center & Width Explanation', 'Echo Number(s)', 'TI_0', 'TI_1', 'TI_2', 'TI_3', 'TI_4', 'TI_5', 'TI_6', '[TimeAfterStart]_0', '[TimeAfterStart]_1', '[TimeAfterStart]_2', '[TimeAfterStart]_3', '[TimeAfterStart]_4', '[TimeAfterStart]_5', '[TimeAfterStart]_6', 'Samples per Pixel', 'Protocol Name', '[SliceMeasurementDuration]_0', '[SliceMeasurementDuration]_1', '[SliceMeasurementDuration]_2', '[SliceMeasurementDuration]_3', '[SliceMeasurementDuration]_4', '[SliceMeasurementDuration]_5', '[SliceMeasurementDuration]_6', 'Image Position (Patient)_0', 'Image Position (Patient)_1', 'Image Position (Patient)_2', 'Largest Image Pixel Value_0', 'Largest Image Pixel Value_1', 'Largest Image Pixel Value_2', 'Largest Image Pixel Value_3', 'Largest Image Pixel Value_4', 'Largest Image Pixel Value_5', 'Largest Image Pixel Value_6', '[AcquisitionMatrixText]', 'Repetition Time', 'Slice Location', 'Image Orientation (Patient)_0', 'Image Orientation (Patient)_1', 'Image Orientation (Patient)_2', 'Image Orientation (Patient)_3', 'Image Orientation (Patient)_4', 'Image Orientation (Patient)_5', 'Columns', 'Acquisition Time_0', 'Acquisition Time_1', 'Acquisition Time_2', 'Acquisition Time_3', 'Acquisition Time_4', 'Acquisition Time_5', 'Acquisition Time_6', '[CSA Series Header Version]', 'Smallest Image Pixel Value', \"Patient's Age\", 'Pixel Spacing_0', 'Pixel Spacing_1', 'Number of Averages', 'Flip Angle', \"Patient's Birth Date\", 'Pixel Representation', 'Instance Creation Time_0', 'Instance Creation Time_1', 'Instance Creation Time_2', 'Instance Creation Time_3', 'Instance Creation Time_4', 'Instance Creation Time_5', 'Instance Creation Time_6', 'Window Center_0', 'Window Center_1', 'Window Center_2', 'Window Center_3', 'Window Center_4', 'Window Center_5', 'Window Center_6', 'Series Number', '[CoilString]', 'Percent Sampling', 'Slice Thickness', 'Number of Phase Encoding Steps', 'Echo Time', 'Inversion Time', 'Bits Stored', 'Window Width_0', 'Window Width_1', 'Window Width_2', 'Window Width_3', 'Window Width_4', 'Window Width_5', 'Window Width_6', \"Patient's Sex\", 'SAR', 'Device Serial Number', 'Bits Allocated', '[CSA Image Header Version]', '[RealDwellTime]', 'Percent Phase Field of View', '[SliceResolution]', 'Content Time_0', 'Content Time_1', 'Content Time_2', 'Content Time_3', 'Content Time_4', 'Content Time_5', 'Content Time_6', \"Patient's Size\", 'Imaging Frequency', 'Rows', 'Study Description', 'Patient Position', 'In-plane Phase Encoding Direction', 'Series Description', 'Pixel Bandwidth', 'Acquisition Number', 'High Bit', \"Patient's Weight\", 'Magnetic Field Strength', 'Body Part Examined', 'dB/dt', 'Sequence Name']"
   ]
  },
  {
   "cell_type": "code",
   "execution_count": 75,
   "metadata": {},
   "outputs": [],
   "source": [
    "objectKeys = [\"Slice Location\",\"Patient's Age\"]"
   ]
  },
  {
   "cell_type": "code",
   "execution_count": 76,
   "metadata": {
    "tags": []
   },
   "outputs": [],
   "source": [
    "for idx,itm in enumerate(df[\"Slice Location\"]):\n",
    "    if type(itm) == str:\n",
    "        splitStr = itm.split(\", \")\n",
    "        splitStr[0] = splitStr[0][1:]\n",
    "        splitStr[-1] = splitStr[-1][:-1]\n",
    "        nums = list(map(float,splitStr))\n",
    "        nums = np.array(splitStr,dtype=float)\n",
    "        avg = np.mean(nums)\n",
    "        df.loc[idx,\"Slice Location\"] = avg"
   ]
  },
  {
   "cell_type": "code",
   "execution_count": 77,
   "metadata": {},
   "outputs": [],
   "source": [
    "import numpy as np\n",
    "\n",
    "new_df = pd.DataFrame()\n",
    "for k in keys:\n",
    "    if df[k].dtype == object:\n",
    "        if k == \"Patient's Age\":\n",
    "            tempList = df[k].to_list()\n",
    "            tempList = [float(re.findall(\"\\d+\",x)[0]) for x in tempList]\n",
    "            new_df[\"Patient's Age\"] = tempList\n",
    "\n",
    "        elif k == \"Slice Location\":\n",
    "            tempList = df[k].to_list()\n",
    "            tempList = np.array(tempList,dtype=float)\n",
    "            new_df[\"Slice Location\"] = tempList\n",
    "        else:\n",
    "            oneHot = pd.get_dummies(df[k])\n",
    "            for kNew in oneHot.columns.values:\n",
    "                tempSeries = pd.to_numeric(oneHot[kNew])\n",
    "                new_df[kNew] = tempSeries\n",
    "    else:\n",
    "        new_df[k] = df[k]\n"
   ]
  },
  {
   "cell_type": "code",
   "execution_count": 78,
   "metadata": {},
   "outputs": [
    {
     "output_type": "execute_result",
     "data": {
      "text/plain": [
       "       [SlicePosition_PCS]_0  [SlicePosition_PCS]_1  [SlicePosition_PCS]_2  \\\n",
       "0                -221.116078            -140.753756                  -0.25   \n",
       "1                -221.116078            -166.116076                  -0.25   \n",
       "2                -222.323807            -163.700617                   0.25   \n",
       "3                -221.116078            -166.116076                  -0.25   \n",
       "4                -213.869700            -164.908346                  -0.25   \n",
       "...                      ...                    ...                    ...   \n",
       "47359            -233.193373            -137.130568                  -0.25   \n",
       "47360            -221.116078            -166.116076                  -0.25   \n",
       "47361            -221.116078            -166.116076                   0.25   \n",
       "47362            -207.831053            -143.169214                   0.25   \n",
       "47363            -197.492874            -129.376934                   0.25   \n",
       "\n",
       "       Accession Number  Echo Train Length  1  1_1_0  2  3  4  ...  \\\n",
       "0                   NaN                  1  1      0  0  0  0  ...   \n",
       "1                   NaN                  1  1      0  0  0  0  ...   \n",
       "2                   NaN                  1  1      0  0  0  0  ...   \n",
       "3                   NaN                  1  1      0  0  0  0  ...   \n",
       "4                   NaN                  1  1      0  0  0  0  ...   \n",
       "...                 ...                ... ..    ... .. .. ..  ...   \n",
       "47359               NaN                  1  1      0  0  0  0  ...   \n",
       "47360               NaN                  1  1      0  0  0  0  ...   \n",
       "47361               NaN                  1  1      0  0  0  0  ...   \n",
       "47362               NaN                  1  1      0  0  0  0  ...   \n",
       "47363               NaN                  1  1      0  0  0  0  ...   \n",
       "\n",
       "       ABDOMENPELVIS  BRAIN  HEAD  HEART  dB/dt  tfi2d1_84  tfi2d1_89  \\\n",
       "0                  0      0     0      0      0          1          0   \n",
       "1                  0      0     0      0      0          1          0   \n",
       "2                  0      0     0      0      0          1          0   \n",
       "3                  0      0     0      0      0          1          0   \n",
       "4                  0      0     0      0      0          1          0   \n",
       "...              ...    ...   ...    ...    ...        ...        ...   \n",
       "47359              0      0     0      0      0          1          0   \n",
       "47360              0      0     0      0      0          1          0   \n",
       "47361              0      0     0      0      0          1          0   \n",
       "47362              0      0     0      0      0          1          0   \n",
       "47363              0      0     0      0      0          1          0   \n",
       "\n",
       "       tfi2d1_90  tfi2d1_91  tfi2d1_94  \n",
       "0              0          0          0  \n",
       "1              0          0          0  \n",
       "2              0          0          0  \n",
       "3              0          0          0  \n",
       "4              0          0          0  \n",
       "...          ...        ...        ...  \n",
       "47359          0          0          0  \n",
       "47360          0          0          0  \n",
       "47361          0          0          0  \n",
       "47362          0          0          0  \n",
       "47363          0          0          0  \n",
       "\n",
       "[47364 rows x 285 columns]"
      ],
      "text/html": "<div>\n<style scoped>\n    .dataframe tbody tr th:only-of-type {\n        vertical-align: middle;\n    }\n\n    .dataframe tbody tr th {\n        vertical-align: top;\n    }\n\n    .dataframe thead th {\n        text-align: right;\n    }\n</style>\n<table border=\"1\" class=\"dataframe\">\n  <thead>\n    <tr style=\"text-align: right;\">\n      <th></th>\n      <th>[SlicePosition_PCS]_0</th>\n      <th>[SlicePosition_PCS]_1</th>\n      <th>[SlicePosition_PCS]_2</th>\n      <th>Accession Number</th>\n      <th>Echo Train Length</th>\n      <th>1</th>\n      <th>1_1_0</th>\n      <th>2</th>\n      <th>3</th>\n      <th>4</th>\n      <th>...</th>\n      <th>ABDOMENPELVIS</th>\n      <th>BRAIN</th>\n      <th>HEAD</th>\n      <th>HEART</th>\n      <th>dB/dt</th>\n      <th>tfi2d1_84</th>\n      <th>tfi2d1_89</th>\n      <th>tfi2d1_90</th>\n      <th>tfi2d1_91</th>\n      <th>tfi2d1_94</th>\n    </tr>\n  </thead>\n  <tbody>\n    <tr>\n      <th>0</th>\n      <td>-221.116078</td>\n      <td>-140.753756</td>\n      <td>-0.25</td>\n      <td>NaN</td>\n      <td>1</td>\n      <td>1</td>\n      <td>0</td>\n      <td>0</td>\n      <td>0</td>\n      <td>0</td>\n      <td>...</td>\n      <td>0</td>\n      <td>0</td>\n      <td>0</td>\n      <td>0</td>\n      <td>0</td>\n      <td>1</td>\n      <td>0</td>\n      <td>0</td>\n      <td>0</td>\n      <td>0</td>\n    </tr>\n    <tr>\n      <th>1</th>\n      <td>-221.116078</td>\n      <td>-166.116076</td>\n      <td>-0.25</td>\n      <td>NaN</td>\n      <td>1</td>\n      <td>1</td>\n      <td>0</td>\n      <td>0</td>\n      <td>0</td>\n      <td>0</td>\n      <td>...</td>\n      <td>0</td>\n      <td>0</td>\n      <td>0</td>\n      <td>0</td>\n      <td>0</td>\n      <td>1</td>\n      <td>0</td>\n      <td>0</td>\n      <td>0</td>\n      <td>0</td>\n    </tr>\n    <tr>\n      <th>2</th>\n      <td>-222.323807</td>\n      <td>-163.700617</td>\n      <td>0.25</td>\n      <td>NaN</td>\n      <td>1</td>\n      <td>1</td>\n      <td>0</td>\n      <td>0</td>\n      <td>0</td>\n      <td>0</td>\n      <td>...</td>\n      <td>0</td>\n      <td>0</td>\n      <td>0</td>\n      <td>0</td>\n      <td>0</td>\n      <td>1</td>\n      <td>0</td>\n      <td>0</td>\n      <td>0</td>\n      <td>0</td>\n    </tr>\n    <tr>\n      <th>3</th>\n      <td>-221.116078</td>\n      <td>-166.116076</td>\n      <td>-0.25</td>\n      <td>NaN</td>\n      <td>1</td>\n      <td>1</td>\n      <td>0</td>\n      <td>0</td>\n      <td>0</td>\n      <td>0</td>\n      <td>...</td>\n      <td>0</td>\n      <td>0</td>\n      <td>0</td>\n      <td>0</td>\n      <td>0</td>\n      <td>1</td>\n      <td>0</td>\n      <td>0</td>\n      <td>0</td>\n      <td>0</td>\n    </tr>\n    <tr>\n      <th>4</th>\n      <td>-213.869700</td>\n      <td>-164.908346</td>\n      <td>-0.25</td>\n      <td>NaN</td>\n      <td>1</td>\n      <td>1</td>\n      <td>0</td>\n      <td>0</td>\n      <td>0</td>\n      <td>0</td>\n      <td>...</td>\n      <td>0</td>\n      <td>0</td>\n      <td>0</td>\n      <td>0</td>\n      <td>0</td>\n      <td>1</td>\n      <td>0</td>\n      <td>0</td>\n      <td>0</td>\n      <td>0</td>\n    </tr>\n    <tr>\n      <th>...</th>\n      <td>...</td>\n      <td>...</td>\n      <td>...</td>\n      <td>...</td>\n      <td>...</td>\n      <td>...</td>\n      <td>...</td>\n      <td>...</td>\n      <td>...</td>\n      <td>...</td>\n      <td>...</td>\n      <td>...</td>\n      <td>...</td>\n      <td>...</td>\n      <td>...</td>\n      <td>...</td>\n      <td>...</td>\n      <td>...</td>\n      <td>...</td>\n      <td>...</td>\n      <td>...</td>\n    </tr>\n    <tr>\n      <th>47359</th>\n      <td>-233.193373</td>\n      <td>-137.130568</td>\n      <td>-0.25</td>\n      <td>NaN</td>\n      <td>1</td>\n      <td>1</td>\n      <td>0</td>\n      <td>0</td>\n      <td>0</td>\n      <td>0</td>\n      <td>...</td>\n      <td>0</td>\n      <td>0</td>\n      <td>0</td>\n      <td>0</td>\n      <td>0</td>\n      <td>1</td>\n      <td>0</td>\n      <td>0</td>\n      <td>0</td>\n      <td>0</td>\n    </tr>\n    <tr>\n      <th>47360</th>\n      <td>-221.116078</td>\n      <td>-166.116076</td>\n      <td>-0.25</td>\n      <td>NaN</td>\n      <td>1</td>\n      <td>1</td>\n      <td>0</td>\n      <td>0</td>\n      <td>0</td>\n      <td>0</td>\n      <td>...</td>\n      <td>0</td>\n      <td>0</td>\n      <td>0</td>\n      <td>0</td>\n      <td>0</td>\n      <td>1</td>\n      <td>0</td>\n      <td>0</td>\n      <td>0</td>\n      <td>0</td>\n    </tr>\n    <tr>\n      <th>47361</th>\n      <td>-221.116078</td>\n      <td>-166.116076</td>\n      <td>0.25</td>\n      <td>NaN</td>\n      <td>1</td>\n      <td>1</td>\n      <td>0</td>\n      <td>0</td>\n      <td>0</td>\n      <td>0</td>\n      <td>...</td>\n      <td>0</td>\n      <td>0</td>\n      <td>0</td>\n      <td>0</td>\n      <td>0</td>\n      <td>1</td>\n      <td>0</td>\n      <td>0</td>\n      <td>0</td>\n      <td>0</td>\n    </tr>\n    <tr>\n      <th>47362</th>\n      <td>-207.831053</td>\n      <td>-143.169214</td>\n      <td>0.25</td>\n      <td>NaN</td>\n      <td>1</td>\n      <td>1</td>\n      <td>0</td>\n      <td>0</td>\n      <td>0</td>\n      <td>0</td>\n      <td>...</td>\n      <td>0</td>\n      <td>0</td>\n      <td>0</td>\n      <td>0</td>\n      <td>0</td>\n      <td>1</td>\n      <td>0</td>\n      <td>0</td>\n      <td>0</td>\n      <td>0</td>\n    </tr>\n    <tr>\n      <th>47363</th>\n      <td>-197.492874</td>\n      <td>-129.376934</td>\n      <td>0.25</td>\n      <td>NaN</td>\n      <td>1</td>\n      <td>1</td>\n      <td>0</td>\n      <td>0</td>\n      <td>0</td>\n      <td>0</td>\n      <td>...</td>\n      <td>0</td>\n      <td>0</td>\n      <td>0</td>\n      <td>0</td>\n      <td>0</td>\n      <td>1</td>\n      <td>0</td>\n      <td>0</td>\n      <td>0</td>\n      <td>0</td>\n    </tr>\n  </tbody>\n</table>\n<p>47364 rows × 285 columns</p>\n</div>"
     },
     "metadata": {},
     "execution_count": 78
    }
   ],
   "source": [
    "new_df"
   ]
  },
  {
   "cell_type": "code",
   "execution_count": 79,
   "metadata": {},
   "outputs": [
    {
     "output_type": "stream",
     "name": "stdout",
     "text": [
      "[dtype('float64'), dtype('int64'), dtype('uint8')]\n"
     ]
    }
   ],
   "source": [
    "dTypeList = []\n",
    "for k in new_df.columns.values:\n",
    "    if new_df[k].dtype not in dTypeList:\n",
    "        dTypeList.append(new_df[k].dtype)\n",
    "\n",
    "print(dTypeList)"
   ]
  },
  {
   "cell_type": "code",
   "execution_count": 85,
   "metadata": {},
   "outputs": [
    {
     "output_type": "execute_result",
     "data": {
      "text/plain": [
       "       [SlicePosition_PCS]_0  [SlicePosition_PCS]_1  [SlicePosition_PCS]_2  \\\n",
       "0                -221.116074            -140.753754                  -0.25   \n",
       "1                -221.116074            -166.116074                  -0.25   \n",
       "2                -222.323807            -163.700623                   0.25   \n",
       "3                -221.116074            -166.116074                  -0.25   \n",
       "4                -213.869705            -164.908340                  -0.25   \n",
       "...                      ...                    ...                    ...   \n",
       "47359            -233.193375            -137.130569                  -0.25   \n",
       "47360            -221.116074            -166.116074                  -0.25   \n",
       "47361            -221.116074            -166.116074                   0.25   \n",
       "47362            -207.831055            -143.169220                   0.25   \n",
       "47363            -197.492874            -129.376938                   0.25   \n",
       "\n",
       "       Accession Number  Echo Train Length    1  1_1_0    2    3    4  ...  \\\n",
       "0                   0.0                1.0  1.0    0.0  0.0  0.0  0.0  ...   \n",
       "1                   0.0                1.0  1.0    0.0  0.0  0.0  0.0  ...   \n",
       "2                   0.0                1.0  1.0    0.0  0.0  0.0  0.0  ...   \n",
       "3                   0.0                1.0  1.0    0.0  0.0  0.0  0.0  ...   \n",
       "4                   0.0                1.0  1.0    0.0  0.0  0.0  0.0  ...   \n",
       "...                 ...                ...  ...    ...  ...  ...  ...  ...   \n",
       "47359               0.0                1.0  1.0    0.0  0.0  0.0  0.0  ...   \n",
       "47360               0.0                1.0  1.0    0.0  0.0  0.0  0.0  ...   \n",
       "47361               0.0                1.0  1.0    0.0  0.0  0.0  0.0  ...   \n",
       "47362               0.0                1.0  1.0    0.0  0.0  0.0  0.0  ...   \n",
       "47363               0.0                1.0  1.0    0.0  0.0  0.0  0.0  ...   \n",
       "\n",
       "       BRAIN  HEAD  HEART  dB/dt  tfi2d1_84  tfi2d1_89  tfi2d1_90  tfi2d1_91  \\\n",
       "0        0.0   0.0    0.0    0.0        1.0        0.0        0.0        0.0   \n",
       "1        0.0   0.0    0.0    0.0        1.0        0.0        0.0        0.0   \n",
       "2        0.0   0.0    0.0    0.0        1.0        0.0        0.0        0.0   \n",
       "3        0.0   0.0    0.0    0.0        1.0        0.0        0.0        0.0   \n",
       "4        0.0   0.0    0.0    0.0        1.0        0.0        0.0        0.0   \n",
       "...      ...   ...    ...    ...        ...        ...        ...        ...   \n",
       "47359    0.0   0.0    0.0    0.0        1.0        0.0        0.0        0.0   \n",
       "47360    0.0   0.0    0.0    0.0        1.0        0.0        0.0        0.0   \n",
       "47361    0.0   0.0    0.0    0.0        1.0        0.0        0.0        0.0   \n",
       "47362    0.0   0.0    0.0    0.0        1.0        0.0        0.0        0.0   \n",
       "47363    0.0   0.0    0.0    0.0        1.0        0.0        0.0        0.0   \n",
       "\n",
       "       tfi2d1_94           eid  \n",
       "0            0.0  1.000058e+13  \n",
       "1            0.0  1.000197e+13  \n",
       "2            0.0  1.000200e+13  \n",
       "3            0.0  1.000344e+13  \n",
       "4            0.0  1.000344e+13  \n",
       "...          ...           ...  \n",
       "47359        0.0  6.025824e+13  \n",
       "47360        0.0  6.025986e+13  \n",
       "47361        0.0  6.026050e+13  \n",
       "47362        0.0  6.026050e+13  \n",
       "47363        0.0  6.026116e+13  \n",
       "\n",
       "[47364 rows x 286 columns]"
      ],
      "text/html": "<div>\n<style scoped>\n    .dataframe tbody tr th:only-of-type {\n        vertical-align: middle;\n    }\n\n    .dataframe tbody tr th {\n        vertical-align: top;\n    }\n\n    .dataframe thead th {\n        text-align: right;\n    }\n</style>\n<table border=\"1\" class=\"dataframe\">\n  <thead>\n    <tr style=\"text-align: right;\">\n      <th></th>\n      <th>[SlicePosition_PCS]_0</th>\n      <th>[SlicePosition_PCS]_1</th>\n      <th>[SlicePosition_PCS]_2</th>\n      <th>Accession Number</th>\n      <th>Echo Train Length</th>\n      <th>1</th>\n      <th>1_1_0</th>\n      <th>2</th>\n      <th>3</th>\n      <th>4</th>\n      <th>...</th>\n      <th>BRAIN</th>\n      <th>HEAD</th>\n      <th>HEART</th>\n      <th>dB/dt</th>\n      <th>tfi2d1_84</th>\n      <th>tfi2d1_89</th>\n      <th>tfi2d1_90</th>\n      <th>tfi2d1_91</th>\n      <th>tfi2d1_94</th>\n      <th>eid</th>\n    </tr>\n  </thead>\n  <tbody>\n    <tr>\n      <th>0</th>\n      <td>-221.116074</td>\n      <td>-140.753754</td>\n      <td>-0.25</td>\n      <td>0.0</td>\n      <td>1.0</td>\n      <td>1.0</td>\n      <td>0.0</td>\n      <td>0.0</td>\n      <td>0.0</td>\n      <td>0.0</td>\n      <td>...</td>\n      <td>0.0</td>\n      <td>0.0</td>\n      <td>0.0</td>\n      <td>0.0</td>\n      <td>1.0</td>\n      <td>0.0</td>\n      <td>0.0</td>\n      <td>0.0</td>\n      <td>0.0</td>\n      <td>1.000058e+13</td>\n    </tr>\n    <tr>\n      <th>1</th>\n      <td>-221.116074</td>\n      <td>-166.116074</td>\n      <td>-0.25</td>\n      <td>0.0</td>\n      <td>1.0</td>\n      <td>1.0</td>\n      <td>0.0</td>\n      <td>0.0</td>\n      <td>0.0</td>\n      <td>0.0</td>\n      <td>...</td>\n      <td>0.0</td>\n      <td>0.0</td>\n      <td>0.0</td>\n      <td>0.0</td>\n      <td>1.0</td>\n      <td>0.0</td>\n      <td>0.0</td>\n      <td>0.0</td>\n      <td>0.0</td>\n      <td>1.000197e+13</td>\n    </tr>\n    <tr>\n      <th>2</th>\n      <td>-222.323807</td>\n      <td>-163.700623</td>\n      <td>0.25</td>\n      <td>0.0</td>\n      <td>1.0</td>\n      <td>1.0</td>\n      <td>0.0</td>\n      <td>0.0</td>\n      <td>0.0</td>\n      <td>0.0</td>\n      <td>...</td>\n      <td>0.0</td>\n      <td>0.0</td>\n      <td>0.0</td>\n      <td>0.0</td>\n      <td>1.0</td>\n      <td>0.0</td>\n      <td>0.0</td>\n      <td>0.0</td>\n      <td>0.0</td>\n      <td>1.000200e+13</td>\n    </tr>\n    <tr>\n      <th>3</th>\n      <td>-221.116074</td>\n      <td>-166.116074</td>\n      <td>-0.25</td>\n      <td>0.0</td>\n      <td>1.0</td>\n      <td>1.0</td>\n      <td>0.0</td>\n      <td>0.0</td>\n      <td>0.0</td>\n      <td>0.0</td>\n      <td>...</td>\n      <td>0.0</td>\n      <td>0.0</td>\n      <td>0.0</td>\n      <td>0.0</td>\n      <td>1.0</td>\n      <td>0.0</td>\n      <td>0.0</td>\n      <td>0.0</td>\n      <td>0.0</td>\n      <td>1.000344e+13</td>\n    </tr>\n    <tr>\n      <th>4</th>\n      <td>-213.869705</td>\n      <td>-164.908340</td>\n      <td>-0.25</td>\n      <td>0.0</td>\n      <td>1.0</td>\n      <td>1.0</td>\n      <td>0.0</td>\n      <td>0.0</td>\n      <td>0.0</td>\n      <td>0.0</td>\n      <td>...</td>\n      <td>0.0</td>\n      <td>0.0</td>\n      <td>0.0</td>\n      <td>0.0</td>\n      <td>1.0</td>\n      <td>0.0</td>\n      <td>0.0</td>\n      <td>0.0</td>\n      <td>0.0</td>\n      <td>1.000344e+13</td>\n    </tr>\n    <tr>\n      <th>...</th>\n      <td>...</td>\n      <td>...</td>\n      <td>...</td>\n      <td>...</td>\n      <td>...</td>\n      <td>...</td>\n      <td>...</td>\n      <td>...</td>\n      <td>...</td>\n      <td>...</td>\n      <td>...</td>\n      <td>...</td>\n      <td>...</td>\n      <td>...</td>\n      <td>...</td>\n      <td>...</td>\n      <td>...</td>\n      <td>...</td>\n      <td>...</td>\n      <td>...</td>\n      <td>...</td>\n    </tr>\n    <tr>\n      <th>47359</th>\n      <td>-233.193375</td>\n      <td>-137.130569</td>\n      <td>-0.25</td>\n      <td>0.0</td>\n      <td>1.0</td>\n      <td>1.0</td>\n      <td>0.0</td>\n      <td>0.0</td>\n      <td>0.0</td>\n      <td>0.0</td>\n      <td>...</td>\n      <td>0.0</td>\n      <td>0.0</td>\n      <td>0.0</td>\n      <td>0.0</td>\n      <td>1.0</td>\n      <td>0.0</td>\n      <td>0.0</td>\n      <td>0.0</td>\n      <td>0.0</td>\n      <td>6.025824e+13</td>\n    </tr>\n    <tr>\n      <th>47360</th>\n      <td>-221.116074</td>\n      <td>-166.116074</td>\n      <td>-0.25</td>\n      <td>0.0</td>\n      <td>1.0</td>\n      <td>1.0</td>\n      <td>0.0</td>\n      <td>0.0</td>\n      <td>0.0</td>\n      <td>0.0</td>\n      <td>...</td>\n      <td>0.0</td>\n      <td>0.0</td>\n      <td>0.0</td>\n      <td>0.0</td>\n      <td>1.0</td>\n      <td>0.0</td>\n      <td>0.0</td>\n      <td>0.0</td>\n      <td>0.0</td>\n      <td>6.025986e+13</td>\n    </tr>\n    <tr>\n      <th>47361</th>\n      <td>-221.116074</td>\n      <td>-166.116074</td>\n      <td>0.25</td>\n      <td>0.0</td>\n      <td>1.0</td>\n      <td>1.0</td>\n      <td>0.0</td>\n      <td>0.0</td>\n      <td>0.0</td>\n      <td>0.0</td>\n      <td>...</td>\n      <td>0.0</td>\n      <td>0.0</td>\n      <td>0.0</td>\n      <td>0.0</td>\n      <td>1.0</td>\n      <td>0.0</td>\n      <td>0.0</td>\n      <td>0.0</td>\n      <td>0.0</td>\n      <td>6.026050e+13</td>\n    </tr>\n    <tr>\n      <th>47362</th>\n      <td>-207.831055</td>\n      <td>-143.169220</td>\n      <td>0.25</td>\n      <td>0.0</td>\n      <td>1.0</td>\n      <td>1.0</td>\n      <td>0.0</td>\n      <td>0.0</td>\n      <td>0.0</td>\n      <td>0.0</td>\n      <td>...</td>\n      <td>0.0</td>\n      <td>0.0</td>\n      <td>0.0</td>\n      <td>0.0</td>\n      <td>1.0</td>\n      <td>0.0</td>\n      <td>0.0</td>\n      <td>0.0</td>\n      <td>0.0</td>\n      <td>6.026050e+13</td>\n    </tr>\n    <tr>\n      <th>47363</th>\n      <td>-197.492874</td>\n      <td>-129.376938</td>\n      <td>0.25</td>\n      <td>0.0</td>\n      <td>1.0</td>\n      <td>1.0</td>\n      <td>0.0</td>\n      <td>0.0</td>\n      <td>0.0</td>\n      <td>0.0</td>\n      <td>...</td>\n      <td>0.0</td>\n      <td>0.0</td>\n      <td>0.0</td>\n      <td>0.0</td>\n      <td>1.0</td>\n      <td>0.0</td>\n      <td>0.0</td>\n      <td>0.0</td>\n      <td>0.0</td>\n      <td>6.026116e+13</td>\n    </tr>\n  </tbody>\n</table>\n<p>47364 rows × 286 columns</p>\n</div>"
     },
     "metadata": {},
     "execution_count": 85
    }
   ],
   "source": [
    "new_df = new_df.astype(np.float32)\n",
    "new_df.fillna(value=0)"
   ]
  },
  {
   "cell_type": "code",
   "execution_count": 86,
   "metadata": {},
   "outputs": [
    {
     "output_type": "stream",
     "name": "stdout",
     "text": [
      "float32\n[dtype('float32')]\n"
     ]
    }
   ],
   "source": [
    "dTypeList = []\n",
    "for k in new_df.columns.values:\n",
    "    if new_df[k].dtype not in dTypeList:\n",
    "        print(new_df[k].dtype)\n",
    "        dTypeList.append(new_df[k].dtype)\n",
    "\n",
    "print(dTypeList)"
   ]
  },
  {
   "cell_type": "code",
   "execution_count": 87,
   "metadata": {},
   "outputs": [],
   "source": [
    "new_df[\"eid\"] = df[\"Unnamed: 0\"]"
   ]
  },
  {
   "cell_type": "code",
   "execution_count": 83,
   "metadata": {},
   "outputs": [],
   "source": [
    "new_df.to_excel(\"sub_bbdict_one_hot.xlsx\")"
   ]
  },
  {
   "cell_type": "code",
   "execution_count": 100,
   "metadata": {},
   "outputs": [],
   "source": [
    "new_df.to_json(\"./jsonFiles/biobank_meta_full_one_hot.json\")"
   ]
  },
  {
   "cell_type": "code",
   "execution_count": 97,
   "metadata": {},
   "outputs": [
    {
     "output_type": "execute_result",
     "data": {
      "text/plain": [
       "0       NaN\n",
       "1       NaN\n",
       "2       NaN\n",
       "3       NaN\n",
       "4       NaN\n",
       "         ..\n",
       "47359   NaN\n",
       "47360   NaN\n",
       "47361   NaN\n",
       "47362   NaN\n",
       "47363   NaN\n",
       "Name: Accession Number, Length: 47364, dtype: float32"
      ]
     },
     "metadata": {},
     "execution_count": 97
    }
   ],
   "source": [
    "val = new_df[\"Accession Number\"][0]\n",
    "\n",
    "new_df[\"Accession Number\"].replace(val, 0)\n",
    "\n",
    "new_df[\"Accession Number\"]"
   ]
  },
  {
   "cell_type": "code",
   "execution_count": 98,
   "metadata": {},
   "outputs": [],
   "source": [
    "new_df[\"Accession Number\"].fillna(0,inplace=True)\n"
   ]
  },
  {
   "cell_type": "code",
   "execution_count": 99,
   "metadata": {},
   "outputs": [
    {
     "output_type": "execute_result",
     "data": {
      "text/plain": [
       "0        0.0\n",
       "1        0.0\n",
       "2        0.0\n",
       "3        0.0\n",
       "4        0.0\n",
       "        ... \n",
       "47359    0.0\n",
       "47360    0.0\n",
       "47361    0.0\n",
       "47362    0.0\n",
       "47363    0.0\n",
       "Name: Accession Number, Length: 47364, dtype: float32"
      ]
     },
     "metadata": {},
     "execution_count": 99
    }
   ],
   "source": [
    "new_df[\"Accession Number\"]"
   ]
  }
 ]
}