{
 "metadata": {
  "language_info": {
   "codemirror_mode": {
    "name": "ipython",
    "version": 3
   },
   "file_extension": ".py",
   "mimetype": "text/x-python",
   "name": "python",
   "nbconvert_exporter": "python",
   "pygments_lexer": "ipython3",
   "version": "3.7.9"
  },
  "orig_nbformat": 2,
  "kernelspec": {
   "name": "python379jvsc74a57bd0c428e58dc82dbe1017e174b4aea0903d12c3fd818f3732ea4cfc62850a0637c7",
   "display_name": "Python 3.7.9 64-bit ('venv')"
  },
  "metadata": {
   "interpreter": {
    "hash": "c428e58dc82dbe1017e174b4aea0903d12c3fd818f3732ea4cfc62850a0637c7"
   }
  }
 },
 "nbformat": 4,
 "nbformat_minor": 2,
 "cells": [
  {
   "source": [
    "# Generate json file for tags\n"
   ],
   "cell_type": "markdown",
   "metadata": {}
  },
  {
   "cell_type": "code",
   "execution_count": 1,
   "metadata": {},
   "outputs": [],
   "source": [
    "import json\n",
    "import os\n",
    "import numpy as np"
   ]
  },
  {
   "cell_type": "code",
   "execution_count": 2,
   "metadata": {},
   "outputs": [
    {
     "output_type": "stream",
     "name": "stdout",
     "text": [
      "['./reasons/ct1-1-Artifacts', './reasons/ct1-1-badsequence', './reasons/ct1-1-Field_artefacts', './reasons/ct1-1-highiron-lowt1', './reasons/ct1-1-lookuptable-rip', './reasons/ct1-1-m50pcfail', './reasons/ct1-1-Other_Unlisted', './reasons/ct1-1-pdff35', './reasons/ct1-1-Rainbow', './reasons/ct1-1-Segmentation_fail', './reasons/ct1-1-Wrong_location', './reasons/ct1-1-zeroct1']\n['Artifacts', 'badsequence', 'Field_artefacts', 'highiron-lowt1', 'lookuptable-rip', 'm50pcfail', 'Other_Unlisted', 'pdff35', 'Rainbow', 'Segmentation_fail', 'Wrong_location', 'zeroct1']\n"
     ]
    }
   ],
   "source": [
    "# Extract class names from file names\n",
    "\n",
    "ct1list = [os.path.join(\"./reasons/\",x) for x in os.listdir(\"./reasons/\") if x.startswith(\"ct1-1\")]\n",
    "\n",
    "print(ct1list)\n",
    "tagNames = []\n",
    "for fN in ct1list:\n",
    "    fSplit = fN.split(\"ct1-1-\")\n",
    "    tagNames.append(fSplit[-1])\n",
    "print(tagNames)"
   ]
  },
  {
   "cell_type": "code",
   "execution_count": 37,
   "metadata": {},
   "outputs": [],
   "source": [
    "# Generate dictionary with eid:[tag list]\n",
    "\n",
    "excludeDict = {}\n",
    "for i,artefactTag in enumerate(tagNames):\n",
    "    fN = \"./reasons/ct1-1-{}\".format(artefactTag)\n",
    "\n",
    "    with open(fN,\"r\") as f:\n",
    "        for line in f:\n",
    "            string = line.strip()\n",
    "            if string+\"_20204_2_0\" not in excludeDict.keys():\n",
    "                tag = [0]*len(tagNames)\n",
    "                tag[i] = 1\n",
    "                excludeDict[string+\"_20204_2_0\"] = tag\n",
    "            else:\n",
    "                tag = excludeDict[string+\"_20204_2_0\"]\n",
    "                tag[i] = 1\n",
    "                excludeDict[string+\"_20204_2_0\"] = tag\n",
    "\n",
    "    try:\n",
    "        fN = \"./reasons/ct1-2-{}\".format(artefactTag)\n",
    "\n",
    "        with open(fN,\"r\") as f:\n",
    "            for line in f:\n",
    "                string = line.strip()\n",
    "                if string+\"_20204_3_0\" not in excludeDict.keys():\n",
    "                    tag = [0]*len(tagNames)\n",
    "                    tag[i] = 1\n",
    "                    excludeDict[string+\"_20204_3_0\"] = tag\n",
    "                else:\n",
    "                    tag = excludeDict[string+\"_20204_3_0\"]\n",
    "                    tag[i] = 1\n",
    "                    excludeDict[string+\"_20204_3_0\"] = tag\n",
    "\n",
    "    except FileNotFoundError:\n",
    "        pass"
   ]
  },
  {
   "cell_type": "code",
   "execution_count": 40,
   "metadata": {},
   "outputs": [
    {
     "output_type": "stream",
     "name": "stdout",
     "text": [
      "664\n"
     ]
    }
   ],
   "source": [
    "# Save Dictionary\n",
    "with open(\"./reasons_split.json\",\"w\") as f:\n",
    "    json.dump(excludeDict,f)"
   ]
  }
 ]
}